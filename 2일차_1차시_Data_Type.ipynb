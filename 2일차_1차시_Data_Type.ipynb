{
  "nbformat": 4,
  "nbformat_minor": 0,
  "metadata": {
    "colab": {
      "name": "2일차 1차시 Data Type",
      "provenance": [],
      "collapsed_sections": [],
      "authorship_tag": "ABX9TyPxLmpz1vFSnPVCJzi2W96l",
      "include_colab_link": true
    },
    "kernelspec": {
      "name": "python3",
      "display_name": "Python 3"
    }
  },
  "cells": [
    {
      "cell_type": "markdown",
      "metadata": {
        "id": "view-in-github",
        "colab_type": "text"
      },
      "source": [
        "<a href=\"https://colab.research.google.com/github/Asirante/Python_2020_Basic/blob/master/2%EC%9D%BC%EC%B0%A8_1%EC%B0%A8%EC%8B%9C_Data_Type.ipynb\" target=\"_parent\"><img src=\"https://colab.research.google.com/assets/colab-badge.svg\" alt=\"Open In Colab\"/></a>"
      ]
    },
    {
      "cell_type": "markdown",
      "metadata": {
        "id": "_S0ksAW24S-6",
        "colab_type": "text"
      },
      "source": [
        "**[학습목표]**\n",
        "\n",
        "\n",
        "---\n",
        "\n",
        "\n",
        "1. Data Type\n",
        "2. 출력문\n",
        "\n",
        "\n",
        "---\n",
        "\n"
      ]
    },
    {
      "cell_type": "code",
      "metadata": {
        "id": "ZXKi8tOP4_9P",
        "colab_type": "code",
        "colab": {}
      },
      "source": [
        "print(\"Hello\")"
      ],
      "execution_count": 0,
      "outputs": []
    },
    {
      "cell_type": "code",
      "metadata": {
        "id": "y_xnS89-4sRg",
        "colab_type": "code",
        "colab": {
          "base_uri": "https://localhost:8080/",
          "height": 34
        },
        "outputId": "bdbea160-9563-4d11-d8c1-36994a366af1"
      },
      "source": [
        "name = '호정'\n",
        "print(name,'안녕')"
      ],
      "execution_count": 2,
      "outputs": [
        {
          "output_type": "stream",
          "text": [
            "호정 안녕\n"
          ],
          "name": "stdout"
        }
      ]
    },
    {
      "cell_type": "code",
      "metadata": {
        "id": "1zZvc96B5bit",
        "colab_type": "code",
        "colab": {
          "base_uri": "https://localhost:8080/",
          "height": 85
        },
        "outputId": "11be7b57-a07e-4460-e3a5-f60014e63b4a"
      },
      "source": [
        "a = 10\n",
        "b = 6.0\n",
        "print('a/b=',a/b)#나누기\n",
        "print('a//b=',a//b)#몫\n",
        "print('a**b=',a**b)#제곱\n",
        "print('a%b=',a%b)#나머지"
      ],
      "execution_count": 11,
      "outputs": [
        {
          "output_type": "stream",
          "text": [
            "a/b= 1.6666666666666667\n",
            "a//b= 1.0\n",
            "a**b= 1000000.0\n",
            "a%b= 4.0\n"
          ],
          "name": "stdout"
        }
      ]
    },
    {
      "cell_type": "code",
      "metadata": {
        "id": "_JSfLZiy5_wF",
        "colab_type": "code",
        "colab": {
          "base_uri": "https://localhost:8080/",
          "height": 34
        },
        "outputId": "90638bc9-3682-4560-d85c-47dd36a376f9"
      },
      "source": [
        "# Data Type\n",
        "print(type(a), type(b), type(name))"
      ],
      "execution_count": 15,
      "outputs": [
        {
          "output_type": "stream",
          "text": [
            "<class 'int'> <class 'float'> <class 'str'>\n"
          ],
          "name": "stdout"
        }
      ]
    },
    {
      "cell_type": "code",
      "metadata": {
        "id": "Ic37MQQg6z1t",
        "colab_type": "code",
        "colab": {
          "base_uri": "https://localhost:8080/",
          "height": 34
        },
        "outputId": "246db64d-5c4a-43e9-8cd7-a38abe45df96"
      },
      "source": [
        "a = [1,2,3] #리스트(list)\n",
        "b = ['1','2','3'] #리스트(list)\n",
        "c ={1,2,3} #세트(set)\n",
        "d ={'1','2','3'} #세트(set)\n",
        "e = (1,2,3)#튜플(tuple)\n",
        "f ='1','2','3'#튜플(tuple)\n",
        "type(a), type(b), type(c), type(d), type(e), type(f)"
      ],
      "execution_count": 36,
      "outputs": [
        {
          "output_type": "execute_result",
          "data": {
            "text/plain": [
              "(list, list, set, set, tuple, tuple)"
            ]
          },
          "metadata": {
            "tags": []
          },
          "execution_count": 36
        }
      ]
    },
    {
      "cell_type": "code",
      "metadata": {
        "id": "5hY-a4D965kD",
        "colab_type": "code",
        "colab": {
          "base_uri": "https://localhost:8080/",
          "height": 34
        },
        "outputId": "2a0ac17b-d2c1-4f72-97be-5b82b6a57b02"
      },
      "source": [
        "a[0]\"\"\"0번 주소값\"\"\",a[1:]\"\"\"1번 주소값부터 끝까지\"\"\",a[:2]\"\"\"처음부터 2번 주소까지\"\"\""
      ],
      "execution_count": 37,
      "outputs": [
        {
          "output_type": "execute_result",
          "data": {
            "text/plain": [
              "(1, [2, 3], [1, 2])"
            ]
          },
          "metadata": {
            "tags": []
          },
          "execution_count": 37
        }
      ]
    },
    {
      "cell_type": "code",
      "metadata": {
        "id": "KolVy85Y8Bq0",
        "colab_type": "code",
        "colab": {
          "base_uri": "https://localhost:8080/",
          "height": 34
        },
        "outputId": "1b449792-9161-4491-d119-213eec058539"
      },
      "source": [
        "a=True\n",
        "b=False\n",
        "a&b,a|b, type(a)"
      ],
      "execution_count": 39,
      "outputs": [
        {
          "output_type": "execute_result",
          "data": {
            "text/plain": [
              "(False, True, bool)"
            ]
          },
          "metadata": {
            "tags": []
          },
          "execution_count": 39
        }
      ]
    },
    {
      "cell_type": "code",
      "metadata": {
        "id": "gDpNUySh9MAV",
        "colab_type": "code",
        "colab": {
          "base_uri": "https://localhost:8080/",
          "height": 34
        },
        "outputId": "5b3dfdd7-5a1e-470e-ab12-450b029ad620"
      },
      "source": [
        "a=[2,4,6,8]\n",
        "len(a)"
      ],
      "execution_count": 41,
      "outputs": [
        {
          "output_type": "execute_result",
          "data": {
            "text/plain": [
              "4"
            ]
          },
          "metadata": {
            "tags": []
          },
          "execution_count": 41
        }
      ]
    },
    {
      "cell_type": "code",
      "metadata": {
        "id": "_nMZQ3OO9jWT",
        "colab_type": "code",
        "colab": {
          "base_uri": "https://localhost:8080/",
          "height": 34
        },
        "outputId": "3316f04b-60df-41f6-808f-e0990d159ac2"
      },
      "source": [
        "b='인천정보산업고등학교'\n",
        "len(b)"
      ],
      "execution_count": 42,
      "outputs": [
        {
          "output_type": "execute_result",
          "data": {
            "text/plain": [
              "10"
            ]
          },
          "metadata": {
            "tags": []
          },
          "execution_count": 42
        }
      ]
    }
  ]
}