{
  "nbformat": 4,
  "nbformat_minor": 0,
  "metadata": {
    "kernelspec": {
      "display_name": "Python 3",
      "language": "python",
      "name": "python3"
    },
    "language_info": {
      "codemirror_mode": {
        "name": "ipython",
        "version": 3
      },
      "file_extension": ".py",
      "mimetype": "text/x-python",
      "name": "python",
      "nbconvert_exporter": "python",
      "pygments_lexer": "ipython3",
      "version": "3.7.4"
    },
    "colab": {
      "name": "19회차 과제.ipynb",
      "provenance": [],
      "include_colab_link": true
    }
  },
  "cells": [
    {
      "cell_type": "markdown",
      "metadata": {
        "id": "view-in-github",
        "colab_type": "text"
      },
      "source": [
        "<a href=\"https://colab.research.google.com/github/Asirante/Python_2020_Basic/blob/master/19%ED%9A%8C%EC%B0%A8_%EA%B3%BC%EC%A0%9C.ipynb\" target=\"_parent\"><img src=\"https://colab.research.google.com/assets/colab-badge.svg\" alt=\"Open In Colab\"/></a>"
      ]
    },
    {
      "cell_type": "markdown",
      "metadata": {
        "id": "xklkzL2eAvU4",
        "colab_type": "text"
      },
      "source": [
        "### boolean"
      ]
    },
    {
      "cell_type": "code",
      "metadata": {
        "id": "dI5WcLDdAvU5",
        "colab_type": "code",
        "colab": {},
        "outputId": "b095ed4d-d058-43fc-ed20-96f5a5782dc1"
      },
      "source": [
        "print(True == False)\n",
        "print(True != 0)\n",
        "print(False == 0)\n",
        "print(True or False)\n",
        "print(1 == '1')"
      ],
      "execution_count": null,
      "outputs": [
        {
          "output_type": "stream",
          "text": [
            "False\n",
            "True\n",
            "True\n",
            "True\n",
            "False\n"
          ],
          "name": "stdout"
        }
      ]
    },
    {
      "cell_type": "markdown",
      "metadata": {
        "id": "zobVY8_WAvU9",
        "colab_type": "text"
      },
      "source": [
        "### 창의예제"
      ]
    },
    {
      "cell_type": "code",
      "metadata": {
        "id": "0haqOO4vAvU9",
        "colab_type": "code",
        "colab": {},
        "outputId": "90529589-f127-4f42-c8bf-7e7f9f39dac3"
      },
      "source": [
        "print(True == 1)\n",
        "print(False != 1)\n",
        "print(0 == 1)"
      ],
      "execution_count": null,
      "outputs": [
        {
          "output_type": "stream",
          "text": [
            "True\n",
            "True\n",
            "False\n"
          ],
          "name": "stdout"
        }
      ]
    },
    {
      "cell_type": "markdown",
      "metadata": {
        "id": "Z_lvtYOfAvU_",
        "colab_type": "text"
      },
      "source": [
        "### 문자열"
      ]
    },
    {
      "cell_type": "code",
      "metadata": {
        "scrolled": true,
        "id": "6JOfZQroAvVA",
        "colab_type": "code",
        "colab": {},
        "outputId": "eeaf4e42-6a0e-4001-e485-e1a538fc27c3"
      },
      "source": [
        "eng = 'Korea COVID 19'\n",
        "print(eng.lower())\n",
        "print(eng.upper())"
      ],
      "execution_count": null,
      "outputs": [
        {
          "output_type": "stream",
          "text": [
            "korea covid 19\n",
            "KOREA COVID 19\n"
          ],
          "name": "stdout"
        }
      ]
    },
    {
      "cell_type": "markdown",
      "metadata": {
        "id": "mg3U8pFLAvVC",
        "colab_type": "text"
      },
      "source": [
        "### 창의예제"
      ]
    },
    {
      "cell_type": "code",
      "metadata": {
        "id": "1OFYXk0RAvVC",
        "colab_type": "code",
        "colab": {},
        "outputId": "4698c7ff-d861-419b-e092-a9f076b2a980"
      },
      "source": [
        "ko = 'Cha Min Su June Ge'\n",
        "print(ko.lower())\n",
        "print(ko.upper())"
      ],
      "execution_count": null,
      "outputs": [
        {
          "output_type": "stream",
          "text": [
            "cha min su june ge\n",
            "CHA MIN SU JUNE GE\n"
          ],
          "name": "stdout"
        }
      ]
    },
    {
      "cell_type": "markdown",
      "metadata": {
        "id": "AkJz3_1SAvVF",
        "colab_type": "text"
      },
      "source": [
        "### Lists []"
      ]
    },
    {
      "cell_type": "code",
      "metadata": {
        "id": "7w8BzFHEAvVF",
        "colab_type": "code",
        "colab": {},
        "outputId": "31f9ecd8-edb4-4b7d-83a2-2433de840301"
      },
      "source": [
        "data = []\n",
        "data.append('java')\n",
        "print(data[0], data[-1], data[1:], data[:2])\n",
        "data.sort()\n",
        "print(data)\n",
        "data.reverse()\n",
        "print(data)"
      ],
      "execution_count": null,
      "outputs": [
        {
          "output_type": "stream",
          "text": [
            "java java [] ['java']\n",
            "['java']\n",
            "['java']\n"
          ],
          "name": "stdout"
        }
      ]
    },
    {
      "cell_type": "markdown",
      "metadata": {
        "id": "18TtxgW3AvVH",
        "colab_type": "text"
      },
      "source": [
        "### 창의예제"
      ]
    },
    {
      "cell_type": "code",
      "metadata": {
        "id": "-q7YeZZ8AvVI",
        "colab_type": "code",
        "colab": {},
        "outputId": "8f8fdb25-3a6c-479d-f72b-02feea20ba61"
      },
      "source": [
        "cl = ['Java', 'Python']\n",
        "cl.append('C')\n",
        "print(cl[0], cl[-1], cl[1:], cl[:2])\n",
        "cl.sort()\n",
        "print(cl)\n",
        "cl.reverse()\n",
        "print(cl)"
      ],
      "execution_count": null,
      "outputs": [
        {
          "output_type": "stream",
          "text": [
            "Java C ['Python', 'C'] ['Java', 'Python']\n",
            "['C', 'Java', 'Python']\n",
            "['Python', 'Java', 'C']\n"
          ],
          "name": "stdout"
        }
      ]
    },
    {
      "cell_type": "markdown",
      "metadata": {
        "id": "iPjTgqsKAvVK",
        "colab_type": "text"
      },
      "source": [
        "### Tuple () \n",
        "변동이 안된다."
      ]
    },
    {
      "cell_type": "code",
      "metadata": {
        "id": "3mcb0U_6AvVL",
        "colab_type": "code",
        "colab": {},
        "outputId": "4e5069da-7058-4a07-f764-29fce7570474"
      },
      "source": [
        "b = (1,2,3, '사', '오')\n",
        "print(b)\n",
        "c = 1,2,3\n",
        "print(c)\n",
        "print(type(b), type(c))\n",
        "#b [3] = 4\n",
        "print(b[3:], b[1:4])"
      ],
      "execution_count": null,
      "outputs": [
        {
          "output_type": "stream",
          "text": [
            "(1, 2, 3, '사', '오')\n",
            "(1, 2, 3)\n",
            "<class 'tuple'> <class 'tuple'>\n",
            "('사', '오') (2, 3, '사')\n"
          ],
          "name": "stdout"
        }
      ]
    },
    {
      "cell_type": "markdown",
      "metadata": {
        "id": "Ukwx0Z5eAvVN",
        "colab_type": "text"
      },
      "source": [
        "### 창의예제"
      ]
    },
    {
      "cell_type": "code",
      "metadata": {
        "id": "uXhPys2WAvVN",
        "colab_type": "code",
        "colab": {},
        "outputId": "daf0f765-df27-4ab5-97dd-e051770eaa89"
      },
      "source": [
        "d = 1,3,5\n",
        "e = ('d','e','s')\n",
        "print(d)\n",
        "print(e)\n",
        "print(type(d), type(e))\n",
        "#d [2] = 1\n",
        "print(d[1:],e[:2])"
      ],
      "execution_count": null,
      "outputs": [
        {
          "output_type": "stream",
          "text": [
            "(1, 3, 5)\n",
            "('d', 'e', 's')\n",
            "<class 'tuple'> <class 'tuple'>\n",
            "(3, 5) ('d', 'e')\n"
          ],
          "name": "stdout"
        }
      ]
    },
    {
      "cell_type": "markdown",
      "metadata": {
        "id": "zCV6mr7IAvVP",
        "colab_type": "text"
      },
      "source": [
        "### Dictionay {}"
      ]
    },
    {
      "cell_type": "code",
      "metadata": {
        "id": "Q4bfTW4lAvVQ",
        "colab_type": "code",
        "colab": {},
        "outputId": "5a44304c-2dbb-4da5-83f7-16bfcb2c68a5"
      },
      "source": [
        "dic = {'name1' : '경민', '학번1' : 20103, 'name2' : '경민2', '학번2' : 20104}\n",
        "print(dic.get('name1'))\n",
        "print(dic.keys())\n",
        "print(dic.values())"
      ],
      "execution_count": null,
      "outputs": [
        {
          "output_type": "stream",
          "text": [
            "경민\n",
            "dict_keys(['name1', '학번1', 'name2', '학번2'])\n",
            "dict_values(['경민', 20103, '경민2', 20104])\n"
          ],
          "name": "stdout"
        }
      ]
    },
    {
      "cell_type": "markdown",
      "metadata": {
        "id": "eC_QVWqGAvVS",
        "colab_type": "text"
      },
      "source": [
        "### set {}"
      ]
    },
    {
      "cell_type": "code",
      "metadata": {
        "id": "FRACMiIYAvVS",
        "colab_type": "code",
        "colab": {},
        "outputId": "64e50435-7b27-40ce-afef-056fbfad095f"
      },
      "source": [
        "lunch = {'햄버거', '치킨', '라면', '콜라', 10000}\n",
        "dinner = {'피자', '족발', '라면', '콜라', 10000}\n",
        "print(lunch & dinner)\n",
        "print(lunch | dinner)"
      ],
      "execution_count": null,
      "outputs": [
        {
          "output_type": "stream",
          "text": [
            "{10000, '라면', '콜라'}\n",
            "{'피자', '치킨', '라면', '햄버거', 10000, '족발', '콜라'}\n"
          ],
          "name": "stdout"
        }
      ]
    },
    {
      "cell_type": "markdown",
      "metadata": {
        "id": "GFDJ5PV7AvVV",
        "colab_type": "text"
      },
      "source": [
        "### Pandas의 두가지 기본 구조\n",
        "\n",
        "Vector 형태의 Series\n",
        "\n",
        "Matrix 형태의 DataFrame"
      ]
    },
    {
      "cell_type": "code",
      "metadata": {
        "id": "t71oi2XbAvVV",
        "colab_type": "code",
        "colab": {},
        "outputId": "ed15d10e-2be6-4d3d-a134-e783e627f47f"
      },
      "source": [
        "import pandas as pd\n",
        "pd.__version__"
      ],
      "execution_count": null,
      "outputs": [
        {
          "output_type": "execute_result",
          "data": {
            "text/plain": [
              "'0.25.1'"
            ]
          },
          "metadata": {
            "tags": []
          },
          "execution_count": 46
        }
      ]
    },
    {
      "cell_type": "code",
      "metadata": {
        "scrolled": false,
        "id": "5QpKoWU_AvVX",
        "colab_type": "code",
        "colab": {},
        "outputId": "5d362047-8ab4-422a-a64e-422d1e205227"
      },
      "source": [
        "s1 = pd.core.series.Series([1,2,3])\n",
        "s2 = pd.core.series.Series(['일', '이', '삼'])\n",
        "pd.DataFrame(data = dict(num = s1, word = s2))"
      ],
      "execution_count": null,
      "outputs": [
        {
          "output_type": "execute_result",
          "data": {
            "text/html": [
              "<div>\n",
              "<style scoped>\n",
              "    .dataframe tbody tr th:only-of-type {\n",
              "        vertical-align: middle;\n",
              "    }\n",
              "\n",
              "    .dataframe tbody tr th {\n",
              "        vertical-align: top;\n",
              "    }\n",
              "\n",
              "    .dataframe thead th {\n",
              "        text-align: right;\n",
              "    }\n",
              "</style>\n",
              "<table border=\"1\" class=\"dataframe\">\n",
              "  <thead>\n",
              "    <tr style=\"text-align: right;\">\n",
              "      <th></th>\n",
              "      <th>num</th>\n",
              "      <th>word</th>\n",
              "    </tr>\n",
              "  </thead>\n",
              "  <tbody>\n",
              "    <tr>\n",
              "      <td>0</td>\n",
              "      <td>1</td>\n",
              "      <td>일</td>\n",
              "    </tr>\n",
              "    <tr>\n",
              "      <td>1</td>\n",
              "      <td>2</td>\n",
              "      <td>이</td>\n",
              "    </tr>\n",
              "    <tr>\n",
              "      <td>2</td>\n",
              "      <td>3</td>\n",
              "      <td>삼</td>\n",
              "    </tr>\n",
              "  </tbody>\n",
              "</table>\n",
              "</div>"
            ],
            "text/plain": [
              "   num word\n",
              "0    1    일\n",
              "1    2    이\n",
              "2    3    삼"
            ]
          },
          "metadata": {
            "tags": []
          },
          "execution_count": 53
        }
      ]
    },
    {
      "cell_type": "code",
      "metadata": {
        "id": "uDbrLdb5AvVZ",
        "colab_type": "code",
        "colab": {},
        "outputId": "cec2f1fe-c8c9-4940-82e4-424462616d24"
      },
      "source": [
        "num_se = pd.Series([1,2,3,4,5])\n",
        "num_df = pd.DataFrame([1,2,3,4,5], index = [1,2,3,4,5])\n",
        "num_df"
      ],
      "execution_count": null,
      "outputs": [
        {
          "output_type": "execute_result",
          "data": {
            "text/html": [
              "<div>\n",
              "<style scoped>\n",
              "    .dataframe tbody tr th:only-of-type {\n",
              "        vertical-align: middle;\n",
              "    }\n",
              "\n",
              "    .dataframe tbody tr th {\n",
              "        vertical-align: top;\n",
              "    }\n",
              "\n",
              "    .dataframe thead th {\n",
              "        text-align: right;\n",
              "    }\n",
              "</style>\n",
              "<table border=\"1\" class=\"dataframe\">\n",
              "  <thead>\n",
              "    <tr style=\"text-align: right;\">\n",
              "      <th></th>\n",
              "      <th>0</th>\n",
              "    </tr>\n",
              "  </thead>\n",
              "  <tbody>\n",
              "    <tr>\n",
              "      <td>1</td>\n",
              "      <td>1</td>\n",
              "    </tr>\n",
              "    <tr>\n",
              "      <td>2</td>\n",
              "      <td>2</td>\n",
              "    </tr>\n",
              "    <tr>\n",
              "      <td>3</td>\n",
              "      <td>3</td>\n",
              "    </tr>\n",
              "    <tr>\n",
              "      <td>4</td>\n",
              "      <td>4</td>\n",
              "    </tr>\n",
              "    <tr>\n",
              "      <td>5</td>\n",
              "      <td>5</td>\n",
              "    </tr>\n",
              "  </tbody>\n",
              "</table>\n",
              "</div>"
            ],
            "text/plain": [
              "   0\n",
              "1  1\n",
              "2  2\n",
              "3  3\n",
              "4  4\n",
              "5  5"
            ]
          },
          "metadata": {
            "tags": []
          },
          "execution_count": 57
        }
      ]
    },
    {
      "cell_type": "markdown",
      "metadata": {
        "id": "RZXYfNKoAvVb",
        "colab_type": "text"
      },
      "source": [
        "### Dict을 이용한 DataFrame 생성"
      ]
    },
    {
      "cell_type": "code",
      "metadata": {
        "id": "wurUu8sUAvVc",
        "colab_type": "code",
        "colab": {},
        "outputId": "74450d75-4e4a-4b14-9658-cc15e0208080"
      },
      "source": [
        "man = [\n",
        "    {'name':'은주', 'age':20,'jab':'j1'},\n",
        "    {'name':'민서', 'age':30,'jab':'j2'},\n",
        "    {'name':'경민', 'age':15,'jab':'j3'}\n",
        "]\n",
        "df = pd.DataFrame(man, index = [1,2,3])\n",
        "df"
      ],
      "execution_count": null,
      "outputs": [
        {
          "output_type": "execute_result",
          "data": {
            "text/html": [
              "<div>\n",
              "<style scoped>\n",
              "    .dataframe tbody tr th:only-of-type {\n",
              "        vertical-align: middle;\n",
              "    }\n",
              "\n",
              "    .dataframe tbody tr th {\n",
              "        vertical-align: top;\n",
              "    }\n",
              "\n",
              "    .dataframe thead th {\n",
              "        text-align: right;\n",
              "    }\n",
              "</style>\n",
              "<table border=\"1\" class=\"dataframe\">\n",
              "  <thead>\n",
              "    <tr style=\"text-align: right;\">\n",
              "      <th></th>\n",
              "      <th>name</th>\n",
              "      <th>age</th>\n",
              "      <th>jab</th>\n",
              "    </tr>\n",
              "  </thead>\n",
              "  <tbody>\n",
              "    <tr>\n",
              "      <td>1</td>\n",
              "      <td>은주</td>\n",
              "      <td>20</td>\n",
              "      <td>j1</td>\n",
              "    </tr>\n",
              "    <tr>\n",
              "      <td>2</td>\n",
              "      <td>민서</td>\n",
              "      <td>30</td>\n",
              "      <td>j2</td>\n",
              "    </tr>\n",
              "    <tr>\n",
              "      <td>3</td>\n",
              "      <td>경민</td>\n",
              "      <td>15</td>\n",
              "      <td>j3</td>\n",
              "    </tr>\n",
              "  </tbody>\n",
              "</table>\n",
              "</div>"
            ],
            "text/plain": [
              "  name  age jab\n",
              "1   은주   20  j1\n",
              "2   민서   30  j2\n",
              "3   경민   15  j3"
            ]
          },
          "metadata": {
            "tags": []
          },
          "execution_count": 60
        }
      ]
    },
    {
      "cell_type": "code",
      "metadata": {
        "id": "HlCPLE_VAvVd",
        "colab_type": "code",
        "colab": {},
        "outputId": "daf0c79a-2ba0-4675-f0c6-06c0f6477f70"
      },
      "source": [
        "a = [1, 2, 3]\n",
        "b = [4, 5, 6]\n",
        "df = [a, b]\n",
        "pd.DataFrame(df, index = [1,2], columns = ['a','b','c'])"
      ],
      "execution_count": null,
      "outputs": [
        {
          "output_type": "execute_result",
          "data": {
            "text/html": [
              "<div>\n",
              "<style scoped>\n",
              "    .dataframe tbody tr th:only-of-type {\n",
              "        vertical-align: middle;\n",
              "    }\n",
              "\n",
              "    .dataframe tbody tr th {\n",
              "        vertical-align: top;\n",
              "    }\n",
              "\n",
              "    .dataframe thead th {\n",
              "        text-align: right;\n",
              "    }\n",
              "</style>\n",
              "<table border=\"1\" class=\"dataframe\">\n",
              "  <thead>\n",
              "    <tr style=\"text-align: right;\">\n",
              "      <th></th>\n",
              "      <th>a</th>\n",
              "      <th>b</th>\n",
              "      <th>c</th>\n",
              "    </tr>\n",
              "  </thead>\n",
              "  <tbody>\n",
              "    <tr>\n",
              "      <td>1</td>\n",
              "      <td>1</td>\n",
              "      <td>2</td>\n",
              "      <td>3</td>\n",
              "    </tr>\n",
              "    <tr>\n",
              "      <td>2</td>\n",
              "      <td>4</td>\n",
              "      <td>5</td>\n",
              "      <td>6</td>\n",
              "    </tr>\n",
              "  </tbody>\n",
              "</table>\n",
              "</div>"
            ],
            "text/plain": [
              "   a  b  c\n",
              "1  1  2  3\n",
              "2  4  5  6"
            ]
          },
          "metadata": {
            "tags": []
          },
          "execution_count": 74
        }
      ]
    },
    {
      "cell_type": "markdown",
      "metadata": {
        "id": "s18mtDqZAvVh",
        "colab_type": "text"
      },
      "source": [
        "### 리스트의 프레임"
      ]
    },
    {
      "cell_type": "code",
      "metadata": {
        "id": "JnE3p1J7AvVh",
        "colab_type": "code",
        "colab": {},
        "outputId": "046a8ec5-f2d1-4b98-c8d1-628acf309219"
      },
      "source": [
        "person = [\n",
        "    ['a',100,80],['b',17,60],['c',50,40],['d',90,80]\n",
        "]\n",
        "col_name = ['name', '국어', '영어']\n",
        "df = pd.DataFrame.from_records(person, columns = col_name, index = [1,2,3,4])\n",
        "\n",
        "df[['국어','영어']]>70"
      ],
      "execution_count": null,
      "outputs": [
        {
          "output_type": "execute_result",
          "data": {
            "text/html": [
              "<div>\n",
              "<style scoped>\n",
              "    .dataframe tbody tr th:only-of-type {\n",
              "        vertical-align: middle;\n",
              "    }\n",
              "\n",
              "    .dataframe tbody tr th {\n",
              "        vertical-align: top;\n",
              "    }\n",
              "\n",
              "    .dataframe thead th {\n",
              "        text-align: right;\n",
              "    }\n",
              "</style>\n",
              "<table border=\"1\" class=\"dataframe\">\n",
              "  <thead>\n",
              "    <tr style=\"text-align: right;\">\n",
              "      <th></th>\n",
              "      <th>국어</th>\n",
              "      <th>영어</th>\n",
              "    </tr>\n",
              "  </thead>\n",
              "  <tbody>\n",
              "    <tr>\n",
              "      <td>1</td>\n",
              "      <td>True</td>\n",
              "      <td>True</td>\n",
              "    </tr>\n",
              "    <tr>\n",
              "      <td>2</td>\n",
              "      <td>False</td>\n",
              "      <td>False</td>\n",
              "    </tr>\n",
              "    <tr>\n",
              "      <td>3</td>\n",
              "      <td>False</td>\n",
              "      <td>False</td>\n",
              "    </tr>\n",
              "    <tr>\n",
              "      <td>4</td>\n",
              "      <td>True</td>\n",
              "      <td>True</td>\n",
              "    </tr>\n",
              "  </tbody>\n",
              "</table>\n",
              "</div>"
            ],
            "text/plain": [
              "      국어     영어\n",
              "1   True   True\n",
              "2  False  False\n",
              "3  False  False\n",
              "4   True   True"
            ]
          },
          "metadata": {
            "tags": []
          },
          "execution_count": 86
        }
      ]
    },
    {
      "cell_type": "markdown",
      "metadata": {
        "id": "2lXcxdt7AvVj",
        "colab_type": "text"
      },
      "source": [
        "### 자신만의 데이터를 만들고 데이터프레임으로 출력해보기"
      ]
    },
    {
      "cell_type": "code",
      "metadata": {
        "id": "EcPZQqe_AvVj",
        "colab_type": "code",
        "colab": {},
        "outputId": "95a612a9-bfde-4a62-e50f-e04ea3b1eb3b"
      },
      "source": [
        "i = [\n",
        "    ['차민수',46,66],\n",
        "    ['한더덕',93,86],\n",
        "    ['이소금',65,72],\n",
        "    ['요호호',100,100]\n",
        "]\n",
        "col_name = ['name', '사회','과학']\n",
        "\n",
        "df = pd.DataFrame.from_records(i, columns = col_name, index = [1,2,3,4])\n",
        "\n",
        "df[['사회', '과학']]>50"
      ],
      "execution_count": null,
      "outputs": [
        {
          "output_type": "execute_result",
          "data": {
            "text/html": [
              "<div>\n",
              "<style scoped>\n",
              "    .dataframe tbody tr th:only-of-type {\n",
              "        vertical-align: middle;\n",
              "    }\n",
              "\n",
              "    .dataframe tbody tr th {\n",
              "        vertical-align: top;\n",
              "    }\n",
              "\n",
              "    .dataframe thead th {\n",
              "        text-align: right;\n",
              "    }\n",
              "</style>\n",
              "<table border=\"1\" class=\"dataframe\">\n",
              "  <thead>\n",
              "    <tr style=\"text-align: right;\">\n",
              "      <th></th>\n",
              "      <th>사회</th>\n",
              "      <th>과학</th>\n",
              "    </tr>\n",
              "  </thead>\n",
              "  <tbody>\n",
              "    <tr>\n",
              "      <td>1</td>\n",
              "      <td>False</td>\n",
              "      <td>True</td>\n",
              "    </tr>\n",
              "    <tr>\n",
              "      <td>2</td>\n",
              "      <td>True</td>\n",
              "      <td>True</td>\n",
              "    </tr>\n",
              "    <tr>\n",
              "      <td>3</td>\n",
              "      <td>True</td>\n",
              "      <td>True</td>\n",
              "    </tr>\n",
              "    <tr>\n",
              "      <td>4</td>\n",
              "      <td>True</td>\n",
              "      <td>True</td>\n",
              "    </tr>\n",
              "  </tbody>\n",
              "</table>\n",
              "</div>"
            ],
            "text/plain": [
              "      사회    과학\n",
              "1  False  True\n",
              "2   True  True\n",
              "3   True  True\n",
              "4   True  True"
            ]
          },
          "metadata": {
            "tags": []
          },
          "execution_count": 91
        }
      ]
    },
    {
      "cell_type": "markdown",
      "metadata": {
        "id": "3cHyEpOMAvVl",
        "colab_type": "text"
      },
      "source": [
        "### 다음과 같은 프레임 출력해보기"
      ]
    },
    {
      "cell_type": "markdown",
      "metadata": {
        "id": "oKmYulyfAvVl",
        "colab_type": "text"
      },
      "source": [
        "j = [\n",
        "    [30102,90,30,50],[30101,100,100,90],[30303,80,100,70],[30501,70,100,100]\n",
        "]\n",
        "cn = ['학번','Java','Python','C','합계']\n",
        "\n",
        "df = pd.DataFrame.from_records(j, columns = cn)"
      ]
    }
  ]
}