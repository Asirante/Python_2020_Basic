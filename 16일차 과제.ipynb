{
 "cells": [
  {
   "cell_type": "markdown",
   "metadata": {},
   "source": [
    "### for문으로 list"
   ]
  },
  {
   "cell_type": "code",
   "execution_count": 1,
   "metadata": {},
   "outputs": [
    {
     "data": {
      "text/plain": [
       "([1, 2, 3, 4, 5], list)"
      ]
     },
     "execution_count": 1,
     "metadata": {},
     "output_type": "execute_result"
    }
   ],
   "source": [
    "n = [1,2,3,4,5]\n",
    "n ,type(n)"
   ]
  },
  {
   "cell_type": "code",
   "execution_count": 5,
   "metadata": {},
   "outputs": [
    {
     "data": {
      "text/plain": [
       "([1, 2, 3, 4, 5, 6, 7, 8, 9, 10], list)"
      ]
     },
     "execution_count": 5,
     "metadata": {},
     "output_type": "execute_result"
    }
   ],
   "source": [
    "nu = list(range(1,11))\n",
    "nu ,type(nu)"
   ]
  },
  {
   "cell_type": "code",
   "execution_count": 7,
   "metadata": {},
   "outputs": [
    {
     "name": "stdout",
     "output_type": "stream",
     "text": [
      "1 2 3 4 5 6 7 8 9 10 "
     ]
    }
   ],
   "source": [
    "for i in nu :\n",
    "    print(i, end = ' ')"
   ]
  },
  {
   "cell_type": "code",
   "execution_count": 8,
   "metadata": {},
   "outputs": [
    {
     "name": "stdout",
     "output_type": "stream",
     "text": [
      "1 : 홀수\n",
      "2 : 짝수\n",
      "3 : 홀수\n",
      "4 : 짝수\n",
      "5 : 홀수\n",
      "6 : 짝수\n",
      "7 : 홀수\n",
      "8 : 짝수\n",
      "9 : 홀수\n",
      "10 : 짝수\n"
     ]
    }
   ],
   "source": [
    "for i in nu :\n",
    "    if i%2 == 0:\n",
    "        print(i,': 짝수')\n",
    "    else :\n",
    "        print(i,': 홀수')"
   ]
  },
  {
   "cell_type": "code",
   "execution_count": 10,
   "metadata": {},
   "outputs": [
    {
     "name": "stdout",
     "output_type": "stream",
     "text": [
      "1 교시 국\n",
      "2 교시 영\n",
      "3 교시 수\n",
      "4 교시 정보\n"
     ]
    }
   ],
   "source": [
    "sub = ['국','영','수','정보']\n",
    "for i in range(len(sub)):\n",
    "    print(i+1,'교시',sub[i])"
   ]
  },
  {
   "cell_type": "code",
   "execution_count": 11,
   "metadata": {},
   "outputs": [
    {
     "name": "stdout",
     "output_type": "stream",
     "text": [
      "1 국\n",
      "2 영\n",
      "3 수\n",
      "4 정보\n"
     ]
    }
   ],
   "source": [
    "for i, val in enumerate(sub):\n",
    "    print(i+1,val)"
   ]
  },
  {
   "cell_type": "code",
   "execution_count": 47,
   "metadata": {},
   "outputs": [
    {
     "name": "stdout",
     "output_type": "stream",
     "text": [
      "1 교시 국 해당없음\n",
      "2 교시 영 해당없음\n",
      "3 교시 수 해당없음\n",
      "4 교시 정보 해당\n"
     ]
    }
   ],
   "source": [
    "for i in range(len(sub)):\n",
    "    if sub[i] == '정보' :\n",
    "        print(i+1,'교시',sub[i],'해당')\n",
    "    else :\n",
    "        print(i+1,'교시',sub[i],'해당없음')"
   ]
  },
  {
   "cell_type": "code",
   "execution_count": 14,
   "metadata": {},
   "outputs": [
    {
     "name": "stdout",
     "output_type": "stream",
     "text": [
      "야~ 나도 파이썬 할 수 있어\n",
      "파이썬\n",
      "야~ 나도 파이썬 할 수 있어\n",
      "파이썬\n",
      "야~ 나도 파이썬 할 수 있어\n",
      "파이썬\n",
      "야~ 나도 파이썬 할 수 있어\n",
      "파이썬\n",
      "야~ 나도 파이썬 할 수 있어\n",
      "파이썬\n"
     ]
    }
   ],
   "source": [
    "for i in range(1,11) :\n",
    "    if i % 2 == 0 :\n",
    "        print('파이썬')\n",
    "    else :\n",
    "        print('야~ 나도 파이썬 할 수 있어')"
   ]
  },
  {
   "cell_type": "markdown",
   "metadata": {},
   "source": [
    "### List 활용"
   ]
  },
  {
   "cell_type": "code",
   "execution_count": 49,
   "metadata": {},
   "outputs": [
    {
     "data": {
      "text/plain": [
       "('          인천광역시 중구 참외전로 6번지 3층 창의관          ', str, 44)"
      ]
     },
     "execution_count": 49,
     "metadata": {},
     "output_type": "execute_result"
    }
   ],
   "source": [
    "js = '          인천광역시 중구 참외전로 6번지 3층 창의관          '\n",
    "js, type(js),len(js)"
   ]
  },
  {
   "cell_type": "code",
   "execution_count": 52,
   "metadata": {},
   "outputs": [],
   "source": [
    "js = js.strip()"
   ]
  },
  {
   "cell_type": "code",
   "execution_count": 53,
   "metadata": {},
   "outputs": [
    {
     "data": {
      "text/plain": [
       "('인천광역시 중구 참외전로 6번지 3층 창의관', 24)"
      ]
     },
     "execution_count": 53,
     "metadata": {},
     "output_type": "execute_result"
    }
   ],
   "source": [
    "js, len(js)"
   ]
  },
  {
   "cell_type": "code",
   "execution_count": 54,
   "metadata": {},
   "outputs": [],
   "source": [
    "ad = js.split()"
   ]
  },
  {
   "cell_type": "code",
   "execution_count": 55,
   "metadata": {},
   "outputs": [
    {
     "data": {
      "text/plain": [
       "(['인천광역시', '중구', '참외전로', '6번지', '3층', '창의관'], 6, list)"
      ]
     },
     "execution_count": 55,
     "metadata": {},
     "output_type": "execute_result"
    }
   ],
   "source": [
    "ad, len(ad), type(ad)"
   ]
  },
  {
   "cell_type": "code",
   "execution_count": 56,
   "metadata": {},
   "outputs": [
    {
     "data": {
      "text/plain": [
       "(['인천광역시', '중구'], ['6번지', '3층', '창의관'])"
      ]
     },
     "execution_count": 56,
     "metadata": {},
     "output_type": "execute_result"
    }
   ],
   "source": [
    "ad[:2], ad[3:]"
   ]
  },
  {
   "cell_type": "code",
   "execution_count": 57,
   "metadata": {},
   "outputs": [
    {
     "data": {
      "text/plain": [
       "True"
      ]
     },
     "execution_count": 57,
     "metadata": {},
     "output_type": "execute_result"
    }
   ],
   "source": [
    "js.startswith('인천')"
   ]
  },
  {
   "cell_type": "code",
   "execution_count": 62,
   "metadata": {},
   "outputs": [
    {
     "data": {
      "text/plain": [
       "True"
      ]
     },
     "execution_count": 62,
     "metadata": {},
     "output_type": "execute_result"
    }
   ],
   "source": [
    "js.endswith('관')"
   ]
  },
  {
   "cell_type": "code",
   "execution_count": 59,
   "metadata": {},
   "outputs": [
    {
     "data": {
      "text/plain": [
       "False"
      ]
     },
     "execution_count": 59,
     "metadata": {},
     "output_type": "execute_result"
    }
   ],
   "source": [
    "'광주광역시' in ad"
   ]
  },
  {
   "cell_type": "code",
   "execution_count": 61,
   "metadata": {},
   "outputs": [
    {
     "data": {
      "text/plain": [
       "False"
      ]
     },
     "execution_count": 61,
     "metadata": {},
     "output_type": "execute_result"
    }
   ],
   "source": [
    "'서울' in js"
   ]
  },
  {
   "cell_type": "markdown",
   "metadata": {},
   "source": [
    "### format과 %"
   ]
  },
  {
   "cell_type": "code",
   "execution_count": 30,
   "metadata": {},
   "outputs": [
    {
     "name": "stdout",
     "output_type": "stream",
     "text": [
      "A is 사과, 오렌지\n"
     ]
    }
   ],
   "source": [
    "s = 'A is {}, {}'\n",
    "pr = s.format('사과', '오렌지')\n",
    "print(pr)"
   ]
  },
  {
   "cell_type": "code",
   "execution_count": 33,
   "metadata": {},
   "outputs": [
    {
     "name": "stdout",
     "output_type": "stream",
     "text": [
      "학교 : 인천정보산업고 힉번 : 20101 이름 : 최정보\n"
     ]
    }
   ],
   "source": [
    "info_1 = '학교 : {} 힉번 : {} 이름 : {}'\n",
    "p = info_1.format('인천정보산업고', 20101, '최정보')\n",
    "print(p)"
   ]
  },
  {
   "cell_type": "markdown",
   "metadata": {},
   "source": [
    "### %s, %d, %f.2...%"
   ]
  },
  {
   "cell_type": "code",
   "execution_count": 42,
   "metadata": {},
   "outputs": [
    {
     "name": "stdout",
     "output_type": "stream",
     "text": [
      "학교 : 송도고 학번 : 20101 성적 : 90.08\n"
     ]
    }
   ],
   "source": [
    "info_2 = '학교 : %s 학번 : %d 성적 : %2.2f'\n",
    "p = info_2%(\"송도고\", 20101, 90.08)\n",
    "print(p)"
   ]
  },
  {
   "cell_type": "code",
   "execution_count": 46,
   "metadata": {},
   "outputs": [
    {
     "name": "stdout",
     "output_type": "stream",
     "text": [
      "햄버거 2 개 가격은 8.00 $\n"
     ]
    }
   ],
   "source": [
    "info_3 = '%s %d 개 가격은 %.2f $'\n",
    "p = info_3%(\"햄버거\", 2, 8.0)\n",
    "print(p)"
   ]
  },
  {
   "cell_type": "markdown",
   "metadata": {},
   "source": [
    "### 문제 1 30 ~ 50 까지 홀수만 출력"
   ]
  },
  {
   "cell_type": "code",
   "execution_count": 65,
   "metadata": {},
   "outputs": [
    {
     "name": "stdout",
     "output_type": "stream",
     "text": [
      "31\n",
      "33\n",
      "35\n",
      "37\n",
      "39\n",
      "41\n",
      "43\n",
      "45\n",
      "47\n",
      "49\n"
     ]
    }
   ],
   "source": [
    "for i in range(31,51) :\n",
    "    if i%2 != 0:\n",
    "        print(i)"
   ]
  },
  {
   "cell_type": "markdown",
   "metadata": {},
   "source": [
    "### 문제 2 아이디(문자)를 입력받아 동일하면 \n",
    "* 안녕하세요 회원님\n",
    "\n",
    "* 회원가입 하세요"
   ]
  },
  {
   "cell_type": "code",
   "execution_count": 66,
   "metadata": {},
   "outputs": [
    {
     "name": "stdout",
     "output_type": "stream",
     "text": [
      "아이디를 입력해라 >>> 히히 못가!\n",
      "안녕하세요 회원님\n"
     ]
    }
   ],
   "source": [
    "playerid = '히히 못가!'\n",
    "ID = input(\"아이디를 입력해라 >>> \")\n",
    "if ID == playerid :\n",
    "    print(\"안녕하세요 회원님\")\n",
    "else :\n",
    "    print(\"회원가입 하세요\")"
   ]
  },
  {
   "cell_type": "markdown",
   "metadata": {},
   "source": [
    "### 문제 3 입력에 인천정보산업고/30105/김장민 입력받아\n",
    "* 학교 : 인천정보산업고\n",
    "\n",
    "* 학번 : 30105\n",
    "\n",
    "* 이름 : 김장민"
   ]
  },
  {
   "cell_type": "code",
   "execution_count": 68,
   "metadata": {},
   "outputs": [
    {
     "name": "stdout",
     "output_type": "stream",
     "text": [
      "학교/학번/이름 입력 >>> 인정산/30120/최건\n",
      "학교 : 인정산\n",
      "학번 : 30120\n",
      "이름 : 최건\n"
     ]
    }
   ],
   "source": [
    "pn = input(\"학교/학번/이름 입력 >>> \").split('/')\n",
    "print('학교 :',pn[0])\n",
    "print('학번 :',pn[1])\n",
    "print('이름 :',pn[2])"
   ]
  },
  {
   "cell_type": "markdown",
   "metadata": {},
   "source": [
    "### 문제 4 숫자데이터 5개 입력반기\n",
    "* 합계\n",
    "\n",
    "* 평균"
   ]
  },
  {
   "cell_type": "code",
   "execution_count": 85,
   "metadata": {},
   "outputs": [
    {
     "name": "stdout",
     "output_type": "stream",
     "text": [
      "숫자 5개 입력해라 닝겐 >>> 1 3 5\n",
      "합계 : 9\n",
      "평균 : 3.0\n"
     ]
    }
   ],
   "source": [
    "mt = list(map(int, input(\"숫자 5개 입력해라 닝겐 >>> \").split()))\n",
    "print('합계 :',sum(mt))\n",
    "print('평균 :',sum(mt)/len(mt))"
   ]
  }
 ],
 "metadata": {
  "kernelspec": {
   "display_name": "Python 3",
   "language": "python",
   "name": "python3"
  },
  "language_info": {
   "codemirror_mode": {
    "name": "ipython",
    "version": 3
   },
   "file_extension": ".py",
   "mimetype": "text/x-python",
   "name": "python",
   "nbconvert_exporter": "python",
   "pygments_lexer": "ipython3",
   "version": "3.7.4"
  }
 },
 "nbformat": 4,
 "nbformat_minor": 2
}
