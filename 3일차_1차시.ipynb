{
  "nbformat": 4,
  "nbformat_minor": 0,
  "metadata": {
    "colab": {
      "name": "3일차 1차시.ipynb",
      "provenance": [],
      "collapsed_sections": [],
      "authorship_tag": "ABX9TyM4tb4HQZqyKJ5/8lY/UMvG",
      "include_colab_link": true
    },
    "kernelspec": {
      "name": "python3",
      "display_name": "Python 3"
    }
  },
  "cells": [
    {
      "cell_type": "markdown",
      "metadata": {
        "id": "view-in-github",
        "colab_type": "text"
      },
      "source": [
        "<a href=\"https://colab.research.google.com/github/Asirante/Python_2020_Basic/blob/master/3%EC%9D%BC%EC%B0%A8_1%EC%B0%A8%EC%8B%9C.ipynb\" target=\"_parent\"><img src=\"https://colab.research.google.com/assets/colab-badge.svg\" alt=\"Open In Colab\"/></a>"
      ]
    },
    {
      "cell_type": "markdown",
      "metadata": {
        "id": "K62nQ928725N",
        "colab_type": "text"
      },
      "source": [
        "# Data_Type\n"
      ]
    },
    {
      "cell_type": "markdown",
      "metadata": {
        "id": "B-qzmOYN4A3w",
        "colab_type": "text"
      },
      "source": [
        "**Data Type Dictionary**"
      ]
    },
    {
      "cell_type": "code",
      "metadata": {
        "id": "v9TwWIjA4alF",
        "colab_type": "code",
        "colab": {}
      },
      "source": [
        "dic = {1 : '1', 2 : '2', 3 : 3}\n"
      ],
      "execution_count": 0,
      "outputs": []
    },
    {
      "cell_type": "code",
      "metadata": {
        "id": "f66PjCpy6sqw",
        "colab_type": "code",
        "outputId": "99a99435-f65c-4ede-b4f3-c324c9fe2da6",
        "colab": {
          "base_uri": "https://localhost:8080/",
          "height": 34
        }
      },
      "source": [
        "dic[1],dic[2],dic[3]"
      ],
      "execution_count": 0,
      "outputs": [
        {
          "output_type": "execute_result",
          "data": {
            "text/plain": [
              "('1', '2', 3)"
            ]
          },
          "metadata": {
            "tags": []
          },
          "execution_count": 18
        }
      ]
    },
    {
      "cell_type": "code",
      "metadata": {
        "id": "7Xwqk3A85yf-",
        "colab_type": "code",
        "outputId": "69310b41-fb2a-4dca-e023-bb0064482a01",
        "colab": {
          "base_uri": "https://localhost:8080/",
          "height": 34
        }
      },
      "source": [
        "a = 'a'\n",
        "type(dic)\n",
        "type(a)\n",
        "type(dic[1])"
      ],
      "execution_count": 0,
      "outputs": [
        {
          "output_type": "execute_result",
          "data": {
            "text/plain": [
              "str"
            ]
          },
          "metadata": {
            "tags": []
          },
          "execution_count": 13
        }
      ]
    },
    {
      "cell_type": "code",
      "metadata": {
        "id": "04lu73zb6JKP",
        "colab_type": "code",
        "outputId": "f8a1124e-04c3-4ad3-c271-60f4ec3454aa",
        "colab": {
          "base_uri": "https://localhost:8080/",
          "height": 51
        }
      },
      "source": [
        "b = [1,2,'3','4']\n",
        "type(b)\n",
        "print(b)\n",
        "b[0] = 8\n",
        "b"
      ],
      "execution_count": 0,
      "outputs": [
        {
          "output_type": "stream",
          "text": [
            "[1, 2, '3', '4']\n"
          ],
          "name": "stdout"
        },
        {
          "output_type": "execute_result",
          "data": {
            "text/plain": [
              "[8, 2, '3', '4']"
            ]
          },
          "metadata": {
            "tags": []
          },
          "execution_count": 19
        }
      ]
    },
    {
      "cell_type": "code",
      "metadata": {
        "id": "908zH2Mm6w1P",
        "colab_type": "code",
        "outputId": "d8015d14-791a-45d0-a3d6-f426814dbed6",
        "colab": {
          "base_uri": "https://localhost:8080/",
          "height": 34
        }
      },
      "source": [
        "c = 1,2,3,4,5\n",
        "type(c)"
      ],
      "execution_count": 0,
      "outputs": [
        {
          "output_type": "execute_result",
          "data": {
            "text/plain": [
              "tuple"
            ]
          },
          "metadata": {
            "tags": []
          },
          "execution_count": 21
        }
      ]
    },
    {
      "cell_type": "code",
      "metadata": {
        "id": "WTG3gFmN7I6b",
        "colab_type": "code",
        "outputId": "c3a6cef2-9889-4303-c599-dc1c54ef26d0",
        "colab": {
          "base_uri": "https://localhost:8080/",
          "height": 34
        }
      },
      "source": [
        "dic.get(1)"
      ],
      "execution_count": 0,
      "outputs": [
        {
          "output_type": "execute_result",
          "data": {
            "text/plain": [
              "'1'"
            ]
          },
          "metadata": {
            "tags": []
          },
          "execution_count": 22
        }
      ]
    },
    {
      "cell_type": "code",
      "metadata": {
        "id": "39LB6mWb7NMn",
        "colab_type": "code",
        "outputId": "3facd7c9-8a6d-4ac4-a50a-fc418919d3b3",
        "colab": {
          "base_uri": "https://localhost:8080/",
          "height": 34
        }
      },
      "source": [
        "dic.values()"
      ],
      "execution_count": 0,
      "outputs": [
        {
          "output_type": "execute_result",
          "data": {
            "text/plain": [
              "dict_values(['1', '2', 3])"
            ]
          },
          "metadata": {
            "tags": []
          },
          "execution_count": 23
        }
      ]
    },
    {
      "cell_type": "markdown",
      "metadata": {
        "id": "ZnT99uLL-38P",
        "colab_type": "text"
      },
      "source": [
        ""
      ]
    },
    {
      "cell_type": "code",
      "metadata": {
        "id": "xJIsTh8d7VI5",
        "colab_type": "code",
        "outputId": "1213153d-c811-49cf-ade2-b64bab4afa93",
        "colab": {
          "base_uri": "https://localhost:8080/",
          "height": 34
        }
      },
      "source": [
        "dic.items()"
      ],
      "execution_count": 0,
      "outputs": [
        {
          "output_type": "execute_result",
          "data": {
            "text/plain": [
              "dict_items([(1, '1'), (2, '2'), (3, 3)])"
            ]
          },
          "metadata": {
            "tags": []
          },
          "execution_count": 24
        }
      ]
    },
    {
      "cell_type": "code",
      "metadata": {
        "id": "mkG59xJv7uEA",
        "colab_type": "code",
        "outputId": "5052d055-3d3d-4511-aec7-6651a7d5bc76",
        "colab": {
          "base_uri": "https://localhost:8080/",
          "height": 34
        }
      },
      "source": [
        "dic.keys()"
      ],
      "execution_count": 0,
      "outputs": [
        {
          "output_type": "execute_result",
          "data": {
            "text/plain": [
              "dict_keys([1, 2, 3])"
            ]
          },
          "metadata": {
            "tags": []
          },
          "execution_count": 25
        }
      ]
    },
    {
      "cell_type": "markdown",
      "metadata": {
        "id": "Z6m_vC6e8Es7",
        "colab_type": "text"
      },
      "source": [
        "# 문제풀이"
      ]
    },
    {
      "cell_type": "code",
      "metadata": {
        "id": "88GUIxy98Gs9",
        "colab_type": "code",
        "outputId": "7064e8e7-01cc-4889-8973-137ac81af0d4",
        "colab": {
          "base_uri": "https://localhost:8080/",
          "height": 34
        }
      },
      "source": [
        "print('*' * 100)"
      ],
      "execution_count": 0,
      "outputs": [
        {
          "output_type": "stream",
          "text": [
            "****************************************************************************************************\n"
          ],
          "name": "stdout"
        }
      ]
    },
    {
      "cell_type": "code",
      "metadata": {
        "id": "qR6e5H8K8Ud1",
        "colab_type": "code",
        "outputId": "2d0d7eac-57be-4d72-b32f-7f3276c4a8a4",
        "colab": {
          "base_uri": "https://localhost:8080/",
          "height": 51
        }
      },
      "source": [
        "id = input('ID 입력 = ')\n",
        "print(id+'님 안녕하세요')"
      ],
      "execution_count": 0,
      "outputs": [
        {
          "output_type": "stream",
          "text": [
            "ID 입력 = ㅇㅁㄴㅇㅁㄴ\n",
            "ㅇㅁㄴㅇㅁㄴ님 안녕하세요\n"
          ],
          "name": "stdout"
        }
      ]
    },
    {
      "cell_type": "code",
      "metadata": {
        "id": "SqKNMTa892mB",
        "colab_type": "code",
        "outputId": "b3eb753f-31a2-42c2-8f93-8975d9b6acc7",
        "colab": {
          "base_uri": "https://localhost:8080/",
          "height": 34
        }
      },
      "source": [
        "type(id)"
      ],
      "execution_count": 0,
      "outputs": [
        {
          "output_type": "execute_result",
          "data": {
            "text/plain": [
              "str"
            ]
          },
          "metadata": {
            "tags": []
          },
          "execution_count": 35
        }
      ]
    },
    {
      "cell_type": "code",
      "metadata": {
        "id": "3sKcc7oa94rw",
        "colab_type": "code",
        "colab": {
          "base_uri": "https://localhost:8080/",
          "height": 51
        },
        "outputId": "4aabca72-f1ae-4f57-c7b4-35863fb8338b"
      },
      "source": [
        "year = input(\"2020년 기준 나이 입력 : \")\n",
        "year = 60 - int(year)\n",
        "if year > 0 :\n",
        "  print(2020 + int(year),'년에 환갑이 된다.')\n",
        "elif year < 0 : \n",
        "  print(2020 + int(year),'년에 환갑이었다.')\n",
        "else :\n",
        "  print('올해 환갑이다.')"
      ],
      "execution_count": 50,
      "outputs": [
        {
          "output_type": "stream",
          "text": [
            "2020년 기준 나이 입력 : 1\n",
            "2079 년에 환갑이 된다.\n"
          ],
          "name": "stdout"
        }
      ]
    },
    {
      "cell_type": "code",
      "metadata": {
        "id": "Fn1dBWM5Hs-z",
        "colab_type": "code",
        "colab": {
          "base_uri": "https://localhost:8080/",
          "height": 119
        },
        "outputId": "6700e207-17ba-4c7f-8c58-342ec7a78c6c"
      },
      "source": [
        "a, b = int(input('숫자 : ')), int(input('숫자 : '))\n",
        "print(a**b)\n",
        "print(a%b)\n",
        "print(a/b)\n",
        "print(a//b)"
      ],
      "execution_count": 56,
      "outputs": [
        {
          "output_type": "stream",
          "text": [
            "숫자 : 123\n",
            "숫자 : 32\n",
            "7532923656948158115977791009617077340797226775839122176340459265921\n",
            "27\n",
            "3.84375\n",
            "3\n"
          ],
          "name": "stdout"
        }
      ]
    }
  ]
}