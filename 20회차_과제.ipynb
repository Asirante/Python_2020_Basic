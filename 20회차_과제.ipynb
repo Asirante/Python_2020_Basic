{
  "nbformat": 4,
  "nbformat_minor": 0,
  "metadata": {
    "kernelspec": {
      "display_name": "Python 3",
      "language": "python",
      "name": "python3"
    },
    "language_info": {
      "codemirror_mode": {
        "name": "ipython",
        "version": 3
      },
      "file_extension": ".py",
      "mimetype": "text/x-python",
      "name": "python",
      "nbconvert_exporter": "python",
      "pygments_lexer": "ipython3",
      "version": "3.7.4"
    },
    "colab": {
      "name": "20회차 과제.ipynb",
      "provenance": [],
      "include_colab_link": true
    }
  },
  "cells": [
    {
      "cell_type": "markdown",
      "metadata": {
        "id": "view-in-github",
        "colab_type": "text"
      },
      "source": [
        "<a href=\"https://colab.research.google.com/github/Asirante/Python_2020_Basic/blob/master/20%ED%9A%8C%EC%B0%A8_%EA%B3%BC%EC%A0%9C.ipynb\" target=\"_parent\"><img src=\"https://colab.research.google.com/assets/colab-badge.svg\" alt=\"Open In Colab\"/></a>"
      ]
    },
    {
      "cell_type": "markdown",
      "metadata": {
        "id": "NdoDAffuA1Cd",
        "colab_type": "text"
      },
      "source": [
        "### 시각화"
      ]
    },
    {
      "cell_type": "code",
      "metadata": {
        "id": "xhJC7UF3A1Ce",
        "colab_type": "code",
        "colab": {}
      },
      "source": [
        "a = ['kor','eng','math']\n",
        "b = [30,100,-80]"
      ],
      "execution_count": null,
      "outputs": []
    },
    {
      "cell_type": "code",
      "metadata": {
        "id": "EXLkvoWOA1Ch",
        "colab_type": "code",
        "colab": {},
        "outputId": "a3ba4354-e889-42bc-c449-032685cb1e5d"
      },
      "source": [
        "a"
      ],
      "execution_count": null,
      "outputs": [
        {
          "output_type": "execute_result",
          "data": {
            "text/plain": [
              "['kor', 'eng', 'math']"
            ]
          },
          "metadata": {
            "tags": []
          },
          "execution_count": 5
        }
      ]
    },
    {
      "cell_type": "code",
      "metadata": {
        "id": "gt9EzMIVA1Cj",
        "colab_type": "code",
        "colab": {},
        "outputId": "397b38c9-9fed-4748-e57b-6d67dfc0f581"
      },
      "source": [
        "b"
      ],
      "execution_count": null,
      "outputs": [
        {
          "output_type": "execute_result",
          "data": {
            "text/plain": [
              "[30, 100, -80]"
            ]
          },
          "metadata": {
            "tags": []
          },
          "execution_count": 7
        }
      ]
    },
    {
      "cell_type": "code",
      "metadata": {
        "id": "Pgqvi6R_A1Cm",
        "colab_type": "code",
        "colab": {}
      },
      "source": [
        "import matplotlib.pyplot as plt"
      ],
      "execution_count": null,
      "outputs": []
    },
    {
      "cell_type": "code",
      "metadata": {
        "id": "IfTtTjKTA1Co",
        "colab_type": "code",
        "colab": {},
        "outputId": "10e739fc-51ed-4cf0-c105-7450b3071706"
      },
      "source": [
        "plt.plot([1,2])"
      ],
      "execution_count": null,
      "outputs": [
        {
          "output_type": "execute_result",
          "data": {
            "text/plain": [
              "[<matplotlib.lines.Line2D at 0x1bd49d387c8>]"
            ]
          },
          "metadata": {
            "tags": []
          },
          "execution_count": 15
        },
        {
          "output_type": "display_data",
          "data": {
            "image/png": "[encoded data removed]",
            "text/plain": [
              "<Figure size 432x288 with 1 Axes>"
            ]
          },
          "metadata": {
            "tags": [],
            "needs_background": "light"
          }
        }
      ]
    },
    {
      "cell_type": "code",
      "metadata": {
        "scrolled": true,
        "id": "RAR6E3nKA1Cq",
        "colab_type": "code",
        "colab": {},
        "outputId": "0049f4c3-56be-49d6-981c-2ddf0bbe9884"
      },
      "source": [
        "plt.bar(a,b)"
      ],
      "execution_count": null,
      "outputs": [
        {
          "output_type": "execute_result",
          "data": {
            "text/plain": [
              "<BarContainer object of 3 artists>"
            ]
          },
          "metadata": {
            "tags": []
          },
          "execution_count": 21
        },
        {
          "output_type": "display_data",
          "data": {
            "image/png": "[encoded data removed]",
            "text/plain": [
              "<Figure size 432x288 with 1 Axes>"
            ]
          },
          "metadata": {
            "tags": [],
            "needs_background": "light"
          }
        }
      ]
    },
    {
      "cell_type": "code",
      "metadata": {
        "scrolled": true,
        "id": "20Oym85rA1Cs",
        "colab_type": "code",
        "colab": {},
        "outputId": "1bd4d2e2-b5fa-4bb7-b437-397ade11ec71"
      },
      "source": [
        "plt.plot(b)"
      ],
      "execution_count": null,
      "outputs": [
        {
          "output_type": "execute_result",
          "data": {
            "text/plain": [
              "[<matplotlib.lines.Line2D at 0x1bd49fb6f48>]"
            ]
          },
          "metadata": {
            "tags": []
          },
          "execution_count": 23
        },
        {
          "output_type": "display_data",
          "data": {
            "image/png": "[encoded data removed]",
            "text/plain": [
              "<Figure size 432x288 with 1 Axes>"
            ]
          },
          "metadata": {
            "tags": [],
            "needs_background": "light"
          }
        }
      ]
    },
    {
      "cell_type": "code",
      "metadata": {
        "scrolled": true,
        "id": "Y1zgjj4FA1Cu",
        "colab_type": "code",
        "colab": {},
        "outputId": "0a622538-6588-4908-9d07-28dbac48de7b"
      },
      "source": [
        "plt.barh(a,b, color = 'red')\n",
        "plt.xlabel('score')\n",
        "plt.ylabel('subject')\n",
        "plt.title('Level')"
      ],
      "execution_count": null,
      "outputs": [
        {
          "output_type": "execute_result",
          "data": {
            "text/plain": [
              "Text(0.5, 1.0, 'Level')"
            ]
          },
          "metadata": {
            "tags": []
          },
          "execution_count": 35
        },
        {
          "output_type": "display_data",
          "data": {
            "image/png": "[encoded data removed]",
            "text/plain": [
              "<Figure size 432x288 with 1 Axes>"
            ]
          },
          "metadata": {
            "tags": [],
            "needs_background": "light"
          }
        }
      ]
    },
    {
      "cell_type": "code",
      "metadata": {
        "id": "2FCKmxb2A1Cw",
        "colab_type": "code",
        "colab": {},
        "outputId": "5ba49c88-268f-4169-c9bb-c6fba4d5b9f0"
      },
      "source": [
        "plt.plot(a,b, color = 'red')\n",
        "plt.plot([1,2,3,4,5],[88,50,70,100,90])\n",
        "plt.xlabel('x')\n",
        "plt.ylabel('y')\n",
        "plt.title('lol')\n",
        "plt.legend('ab')"
      ],
      "execution_count": null,
      "outputs": [
        {
          "output_type": "execute_result",
          "data": {
            "text/plain": [
              "<matplotlib.legend.Legend at 0x1bd4b603308>"
            ]
          },
          "metadata": {
            "tags": []
          },
          "execution_count": 43
        },
        {
          "output_type": "display_data",
          "data": {
            "image/png": "[encoded data removed]",
            "text/plain": [
              "<Figure size 432x288 with 1 Axes>"
            ]
          },
          "metadata": {
            "tags": [],
            "needs_background": "light"
          }
        }
      ]
    },
    {
      "cell_type": "code",
      "metadata": {
        "id": "q3ktEOyrA1C0",
        "colab_type": "code",
        "colab": {},
        "outputId": "0d936ac3-b878-468a-e11f-1a0161c66599"
      },
      "source": [
        "plt.plot(a,b,'-.', color = 'red')\n",
        "plt.plot([1,2,3,4,5],[88,50,70,100,90],'--')\n",
        "plt.xlabel('x')\n",
        "plt.ylabel('y')\n",
        "plt.title('한글')\n",
        "plt.legend('ab')"
      ],
      "execution_count": null,
      "outputs": [
        {
          "output_type": "execute_result",
          "data": {
            "text/plain": [
              "<matplotlib.legend.Legend at 0x1bd4cd4e308>"
            ]
          },
          "metadata": {
            "tags": []
          },
          "execution_count": 72
        },
        {
          "output_type": "display_data",
          "data": {
            "image/png": "[encoded data removed]",
            "text/plain": [
              "<Figure size 432x288 with 1 Axes>"
            ]
          },
          "metadata": {
            "tags": [],
            "needs_background": "light"
          }
        }
      ]
    },
    {
      "cell_type": "code",
      "metadata": {
        "id": "q3fsPn8JA1C2",
        "colab_type": "code",
        "colab": {},
        "outputId": "838a5ea0-d1ed-40e5-f9e4-afa4b4ccd178"
      },
      "source": [
        "from matplotlib import font_manager as fm, rc\n",
        "font_list = fm.findSystemFonts()\n",
        "font_list"
      ],
      "execution_count": null,
      "outputs": [
        {
          "output_type": "execute_result",
          "data": {
            "text/plain": [
              "['C:\\\\Windows\\\\Fonts\\\\KozMinPro-ExtraLight.otf',\n",
              " 'C:\\\\Windows\\\\Fonts\\\\msjhl.ttc',\n",
              " 'C:\\\\Windows\\\\Fonts\\\\LCALLIG.TTF',\n",
              " 'C:\\\\Windows\\\\Fonts\\\\CENSCBK.TTF',\n",
              " 'C:\\\\Windows\\\\Fonts\\\\KozMinPr6N-Bold.otf',\n",
              " 'C:\\\\Windows\\\\Fonts\\\\CooperBlackStd-Italic.otf',\n",
              " 'C:\\\\Windows\\\\Fonts\\\\BrushScriptStd.otf',\n",
              " 'C:\\\\Windows\\\\Fonts\\\\FRABK.TTF',\n",
              " 'C:\\\\Windows\\\\Fonts\\\\HancomEQN.ttf',\n",
              " 'C:\\\\Windows\\\\Fonts\\\\NIAGENG.TTF',\n",
              " 'C:\\\\Windows\\\\Fonts\\\\gadugi.ttf',\n",
              " 'C:\\\\Windows\\\\Fonts\\\\LSANS.TTF',\n",
              " 'C:\\\\Windows\\\\Fonts\\\\ENGR.TTF',\n",
              " 'C:\\\\Windows\\\\Fonts\\\\consolaz.ttf',\n",
              " 'C:\\\\Windows\\\\Fonts\\\\AdobeKaitiStd-Regular.otf',\n",
              " 'C:\\\\Windows\\\\Fonts\\\\PER_____.TTF',\n",
              " 'C:\\\\Windows\\\\Fonts\\\\JUICE___.TTF',\n",
              " 'C:\\\\Windows\\\\Fonts\\\\ZWAdobeF.TTF',\n",
              " 'C:\\\\Windows\\\\Fonts\\\\AdobeHebrew-Italic.otf',\n",
              " 'C:\\\\Windows\\\\Fonts\\\\FRABKIT.TTF',\n",
              " 'C:\\\\Windows\\\\Fonts\\\\seguiemj.ttf',\n",
              " 'C:\\\\Windows\\\\Fonts\\\\simsunb.ttf',\n",
              " 'C:\\\\Windows\\\\Fonts\\\\KozGoPro-Heavy.otf',\n",
              " 'C:\\\\Windows\\\\Fonts\\\\cambria.ttc',\n",
              " 'C:\\\\Windows\\\\Fonts\\\\HANBatangB.ttf',\n",
              " 'C:\\\\Windows\\\\Fonts\\\\LithosPro-Regular.otf',\n",
              " 'C:\\\\Windows\\\\Fonts\\\\GOUDOSI.TTF',\n",
              " 'C:\\\\Windows\\\\Fonts\\\\LBRITE.TTF',\n",
              " 'C:\\\\Windows\\\\Fonts\\\\TCCEB.TTF',\n",
              " 'C:\\\\Windows\\\\Fonts\\\\H2GPRM.TTF',\n",
              " 'C:\\\\Windows\\\\Fonts\\\\MinionPro-Semibold.otf',\n",
              " 'C:\\\\Windows\\\\Fonts\\\\mingliub.ttc',\n",
              " 'C:\\\\Windows\\\\Fonts\\\\corbeli.ttf',\n",
              " 'C:\\\\Windows\\\\Fonts\\\\KozMinPr6N-ExtraLight.otf',\n",
              " 'C:\\\\Windows\\\\Fonts\\\\seguili.ttf',\n",
              " 'C:\\\\Windows\\\\Fonts\\\\sylfaen.ttf',\n",
              " 'C:\\\\Windows\\\\Fonts\\\\HARNGTON.TTF',\n",
              " 'C:\\\\Windows\\\\Fonts\\\\CALISTBI.TTF',\n",
              " 'C:\\\\Windows\\\\Fonts\\\\ebrimabd.ttf',\n",
              " 'C:\\\\Windows\\\\Fonts\\\\MSUIGHUR.TTF',\n",
              " 'C:\\\\Windows\\\\Fonts\\\\arial.ttf',\n",
              " 'C:\\\\Windows\\\\Fonts\\\\MinionPro-SemiboldIt.otf',\n",
              " 'C:\\\\Windows\\\\Fonts\\\\BOD_PSTC.TTF',\n",
              " 'C:\\\\Windows\\\\Fonts\\\\GOUDYSTO.TTF',\n",
              " 'C:\\\\Windows\\\\Fonts\\\\BELL.TTF',\n",
              " 'C:\\\\Windows\\\\Fonts\\\\MyriadArabic-It.otf',\n",
              " 'C:\\\\Windows\\\\Fonts\\\\verdanaz.ttf',\n",
              " 'C:\\\\Windows\\\\Fonts\\\\timesbi.ttf',\n",
              " 'C:\\\\Windows\\\\Fonts\\\\consolab.ttf',\n",
              " 'C:\\\\Users\\\\user\\\\AppData\\\\Local\\\\Microsoft\\\\Windows\\\\Fonts\\\\NanumBarunGothicLight.ttf',\n",
              " 'C:\\\\Windows\\\\Fonts\\\\FRADM.TTF',\n",
              " 'C:\\\\Windows\\\\Fonts\\\\LSANSDI.TTF',\n",
              " 'C:\\\\Windows\\\\Fonts\\\\ITCEDSCR.TTF',\n",
              " 'C:\\\\Windows\\\\Fonts\\\\YuGothL.ttc',\n",
              " 'C:\\\\Windows\\\\Fonts\\\\ERASLGHT.TTF',\n",
              " 'C:\\\\Windows\\\\Fonts\\\\MesquiteStd.otf',\n",
              " 'C:\\\\Windows\\\\Fonts\\\\KozMinPr6N-Heavy.otf',\n",
              " 'C:\\\\Windows\\\\Fonts\\\\ACaslonPro-BoldItalic.otf',\n",
              " 'C:\\\\Windows\\\\Fonts\\\\MTCORSVA.TTF',\n",
              " 'C:\\\\Windows\\\\Fonts\\\\TCBI____.TTF',\n",
              " 'C:\\\\Windows\\\\Fonts\\\\cambriab.ttf',\n",
              " 'C:\\\\Windows\\\\Fonts\\\\TektonPro-BoldObl.otf',\n",
              " 'C:\\\\Windows\\\\Fonts\\\\AdobeArabic-BoldItalic.otf',\n",
              " 'C:\\\\Windows\\\\Fonts\\\\MyriadArabic-Regular.otf',\n",
              " 'C:\\\\Windows\\\\Fonts\\\\OLDENGL.TTF',\n",
              " 'C:\\\\Windows\\\\Fonts\\\\MyriadPro-Regular.otf',\n",
              " 'C:\\\\Windows\\\\Fonts\\\\AdobeArabic-Regular.otf',\n",
              " 'C:\\\\Windows\\\\Fonts\\\\LHANDW.TTF',\n",
              " 'C:\\\\Windows\\\\Fonts\\\\BRITANIC.TTF',\n",
              " 'C:\\\\Windows\\\\Fonts\\\\corbelz.ttf',\n",
              " 'C:\\\\Windows\\\\Fonts\\\\MyriadPro-SemiboldIt.otf',\n",
              " 'C:\\\\Windows\\\\Fonts\\\\BOOKOS.TTF',\n",
              " 'C:\\\\Windows\\\\Fonts\\\\AdobeFanHeitiStd-Bold.otf',\n",
              " 'C:\\\\Windows\\\\Fonts\\\\himalaya.ttf',\n",
              " 'C:\\\\Windows\\\\Fonts\\\\OratorStd.otf',\n",
              " 'C:\\\\Windows\\\\Fonts\\\\GOTHICI.TTF',\n",
              " 'C:\\\\Windows\\\\Fonts\\\\Candara.ttf',\n",
              " 'C:\\\\Windows\\\\Fonts\\\\gulim.ttc',\n",
              " 'C:\\\\Windows\\\\Fonts\\\\ARIALN.TTF',\n",
              " 'C:\\\\Windows\\\\Fonts\\\\CALISTI.TTF',\n",
              " 'C:\\\\Windows\\\\Fonts\\\\DUBAI-REGULAR.TTF',\n",
              " 'C:\\\\Windows\\\\Fonts\\\\cour.ttf',\n",
              " 'C:\\\\Windows\\\\Fonts\\\\AGENCYB.TTF',\n",
              " 'C:\\\\Windows\\\\Fonts\\\\MATURASC.TTF',\n",
              " 'C:\\\\Windows\\\\Fonts\\\\MSUIGHUB.TTF',\n",
              " 'C:\\\\Windows\\\\Fonts\\\\FELIXTI.TTF',\n",
              " 'C:\\\\Windows\\\\Fonts\\\\LTYPEBO.TTF',\n",
              " 'C:\\\\Windows\\\\Fonts\\\\COPRGTL.TTF',\n",
              " 'C:\\\\Windows\\\\Fonts\\\\INFROMAN.TTF',\n",
              " 'C:\\\\Windows\\\\Fonts\\\\msjh.ttc',\n",
              " 'C:\\\\Windows\\\\Fonts\\\\BlackoakStd.otf',\n",
              " 'C:\\\\Windows\\\\Fonts\\\\LFAX.TTF',\n",
              " 'C:\\\\Windows\\\\Fonts\\\\BSSYM7.TTF',\n",
              " 'C:\\\\Windows\\\\Fonts\\\\wingding.ttf',\n",
              " 'C:\\\\Windows\\\\Fonts\\\\LTYPEO.TTF',\n",
              " 'C:\\\\Windows\\\\Fonts\\\\ALGER.TTF',\n",
              " 'C:\\\\Windows\\\\Fonts\\\\NGULIM.TTF',\n",
              " 'C:\\\\Windows\\\\Fonts\\\\taileb.ttf',\n",
              " 'C:\\\\Windows\\\\Fonts\\\\H2MJRE.TTF',\n",
              " 'C:\\\\Windows\\\\Fonts\\\\AdobeHebrew-Bold.otf',\n",
              " 'C:\\\\Windows\\\\Fonts\\\\ARIALNI.TTF',\n",
              " 'C:\\\\Windows\\\\Fonts\\\\georgiai.ttf',\n",
              " 'C:\\\\Windows\\\\Fonts\\\\tahoma.ttf',\n",
              " 'C:\\\\Windows\\\\Fonts\\\\BAUHS93.TTF',\n",
              " 'C:\\\\Windows\\\\Fonts\\\\CALIFR.TTF',\n",
              " 'C:\\\\Windows\\\\Fonts\\\\TCM_____.TTF',\n",
              " 'C:\\\\Windows\\\\Fonts\\\\NuevaStd-Cond.otf',\n",
              " 'C:\\\\Windows\\\\Fonts\\\\BELLI.TTF',\n",
              " 'C:\\\\Windows\\\\Fonts\\\\ANTQUAI.TTF',\n",
              " 'C:\\\\Windows\\\\Fonts\\\\BASKVILL.TTF',\n",
              " 'C:\\\\Windows\\\\Fonts\\\\MOD20.TTF',\n",
              " 'C:\\\\Windows\\\\Fonts\\\\TektonPro-Bold.otf',\n",
              " 'C:\\\\Windows\\\\Fonts\\\\PAPYRUS.TTF',\n",
              " 'C:\\\\Windows\\\\Fonts\\\\FRAHVIT.TTF',\n",
              " 'C:\\\\Windows\\\\Fonts\\\\KozMinPro-Medium.otf',\n",
              " 'C:\\\\Windows\\\\Fonts\\\\GOTHICB.TTF',\n",
              " 'C:\\\\Windows\\\\Fonts\\\\KozMinPro-Bold.otf',\n",
              " 'C:\\\\Windows\\\\Fonts\\\\LeelaUIb.ttf',\n",
              " 'C:\\\\Windows\\\\Fonts\\\\MISTRAL.TTF',\n",
              " 'C:\\\\Windows\\\\Fonts\\\\DUBAI-BOLD.TTF',\n",
              " 'C:\\\\Windows\\\\Fonts\\\\constani.ttf',\n",
              " 'C:\\\\Windows\\\\Fonts\\\\GILLUBCD.TTF',\n",
              " 'C:\\\\Windows\\\\Fonts\\\\LetterGothicStd.otf',\n",
              " 'C:\\\\Windows\\\\Fonts\\\\PERB____.TTF',\n",
              " 'C:\\\\Windows\\\\Fonts\\\\SCHLBKBI.TTF',\n",
              " 'C:\\\\Windows\\\\Fonts\\\\ERASDEMI.TTF',\n",
              " 'C:\\\\Windows\\\\Fonts\\\\Candarai.ttf',\n",
              " 'C:\\\\Windows\\\\Fonts\\\\framdit.ttf',\n",
              " 'C:\\\\Windows\\\\Fonts\\\\segoescb.ttf',\n",
              " 'C:\\\\Windows\\\\Fonts\\\\KozGoPr6N-Regular.otf',\n",
              " 'C:\\\\Windows\\\\Fonts\\\\mvboli.ttf',\n",
              " 'C:\\\\Windows\\\\Fonts\\\\trebucbi.ttf',\n",
              " 'C:\\\\Windows\\\\Fonts\\\\LEELAWDB.TTF',\n",
              " 'C:\\\\Windows\\\\Fonts\\\\msyi.ttf',\n",
              " 'C:\\\\Windows\\\\Fonts\\\\seguisym.ttf',\n",
              " 'C:\\\\Windows\\\\Fonts\\\\Candarab.ttf',\n",
              " 'C:\\\\Windows\\\\Fonts\\\\LSANSD.TTF',\n",
              " 'C:\\\\Windows\\\\Fonts\\\\marlett.ttf',\n",
              " 'C:\\\\Windows\\\\Fonts\\\\Nirmala.ttf',\n",
              " 'C:\\\\Windows\\\\Fonts\\\\CURLZ___.TTF',\n",
              " 'C:\\\\Windows\\\\Fonts\\\\AdobeMyungjoStd-Medium.otf',\n",
              " 'C:\\\\Windows\\\\Fonts\\\\MyriadPro-Semibold.otf',\n",
              " 'C:\\\\Windows\\\\Fonts\\\\ARLRDBD.TTF',\n",
              " 'C:\\\\Windows\\\\Fonts\\\\msjhbd.ttc',\n",
              " 'C:\\\\Windows\\\\Fonts\\\\ChaparralPro-LightIt.otf',\n",
              " 'C:\\\\Windows\\\\Fonts\\\\ACaslonPro-Semibold.otf',\n",
              " 'C:\\\\Program Files (x86)\\\\Common Files\\\\Microsoft Shared\\\\EQUATION\\\\MTEXTRA.TTF',\n",
              " 'C:\\\\Windows\\\\Fonts\\\\ONYX.TTF',\n",
              " 'C:\\\\Windows\\\\Fonts\\\\ANTQUABI.TTF',\n",
              " 'C:\\\\Windows\\\\Fonts\\\\HANWing2.ttf',\n",
              " 'C:\\\\Windows\\\\Fonts\\\\BOD_CI.TTF',\n",
              " 'C:\\\\Windows\\\\Fonts\\\\MyriadHebrew-BoldIt.otf',\n",
              " 'C:\\\\Windows\\\\Fonts\\\\malgunsl.ttf',\n",
              " 'C:\\\\Windows\\\\Fonts\\\\seguisb.ttf',\n",
              " 'C:\\\\Windows\\\\Fonts\\\\HMKMMAG.TTF',\n",
              " 'C:\\\\Windows\\\\Fonts\\\\SNAP____.TTF',\n",
              " 'C:\\\\Windows\\\\Fonts\\\\NuevaStd-BoldCondItalic.otf',\n",
              " 'C:\\\\Windows\\\\Fonts\\\\MyriadHebrew-Regular.otf',\n",
              " 'C:\\\\Windows\\\\Fonts\\\\H2SA1M.TTF',\n",
              " 'C:\\\\Windows\\\\Fonts\\\\GOTHICBI.TTF',\n",
              " 'C:\\\\Windows\\\\Fonts\\\\MinionPro-MediumIt.otf',\n",
              " 'C:\\\\Windows\\\\Fonts\\\\lucon.ttf',\n",
              " 'C:\\\\Windows\\\\Fonts\\\\H2PORM.TTF',\n",
              " 'C:\\\\Windows\\\\Fonts\\\\BOD_CBI.TTF',\n",
              " 'C:\\\\Windows\\\\Fonts\\\\MyriadPro-CondIt.otf',\n",
              " 'C:\\\\Windows\\\\Fonts\\\\LBRITEI.TTF',\n",
              " 'C:\\\\Windows\\\\Fonts\\\\ChaparralPro-BoldIt.otf',\n",
              " 'C:\\\\Windows\\\\Fonts\\\\SCHLBKI.TTF',\n",
              " 'C:\\\\Windows\\\\Fonts\\\\KozGoPro-Regular.otf',\n",
              " 'C:\\\\Windows\\\\Fonts\\\\HANDotumB.ttf',\n",
              " 'C:\\\\Windows\\\\Fonts\\\\mmrtextb.ttf',\n",
              " 'C:\\\\Windows\\\\Fonts\\\\cambriaz.ttf',\n",
              " 'C:\\\\Windows\\\\Fonts\\\\PARCHM.TTF',\n",
              " 'C:\\\\Windows\\\\Fonts\\\\Inkfree.ttf',\n",
              " 'C:\\\\Windows\\\\Fonts\\\\constanz.ttf',\n",
              " 'C:\\\\Windows\\\\Fonts\\\\COOPBL.TTF',\n",
              " 'C:\\\\Windows\\\\Fonts\\\\JUMJA.TTF',\n",
              " 'C:\\\\Windows\\\\Fonts\\\\HANBatang.ttf',\n",
              " 'C:\\\\Windows\\\\Fonts\\\\GLECB.TTF',\n",
              " 'C:\\\\Windows\\\\Fonts\\\\VIVALDII.TTF',\n",
              " 'C:\\\\Windows\\\\Fonts\\\\MyriadPro-BoldCond.otf',\n",
              " 'C:\\\\Windows\\\\Fonts\\\\phagspa.ttf',\n",
              " 'C:\\\\Windows\\\\Fonts\\\\NuevaStd-Italic.otf',\n",
              " 'C:\\\\Windows\\\\Fonts\\\\georgia.ttf',\n",
              " 'C:\\\\Windows\\\\Fonts\\\\palabi.ttf',\n",
              " 'C:\\\\Windows\\\\Fonts\\\\HANBatangExtB.ttf',\n",
              " 'C:\\\\Windows\\\\Fonts\\\\GILI____.TTF',\n",
              " 'C:\\\\Windows\\\\Fonts\\\\PoplarStd.otf',\n",
              " 'C:\\\\Windows\\\\Fonts\\\\comicz.ttf',\n",
              " 'C:\\\\Windows\\\\Fonts\\\\arialbd.ttf',\n",
              " 'C:\\\\Windows\\\\Fonts\\\\cambriai.ttf',\n",
              " 'C:\\\\Windows\\\\Fonts\\\\Hancom Gothic Regular.ttf',\n",
              " 'C:\\\\Windows\\\\Fonts\\\\CALIFI.TTF',\n",
              " 'C:\\\\Windows\\\\Fonts\\\\H2GTRE.TTF',\n",
              " 'C:\\\\Windows\\\\Fonts\\\\MyriadPro-Bold.otf',\n",
              " 'C:\\\\Windows\\\\Fonts\\\\MinionPro-It.otf',\n",
              " 'C:\\\\Windows\\\\Fonts\\\\BirchStd.otf',\n",
              " 'C:\\\\Windows\\\\Fonts\\\\Candarali.ttf',\n",
              " 'C:\\\\Windows\\\\Fonts\\\\segoeui.ttf',\n",
              " 'C:\\\\Users\\\\user\\\\AppData\\\\Local\\\\Microsoft\\\\Windows\\\\Fonts\\\\NanumBarunGothic.ttf',\n",
              " 'C:\\\\Windows\\\\Fonts\\\\KozGoPr6N-Bold.otf',\n",
              " 'C:\\\\Windows\\\\Fonts\\\\SHOWG.TTF',\n",
              " 'C:\\\\Windows\\\\Fonts\\\\MyriadPro-It.otf',\n",
              " 'C:\\\\Windows\\\\Fonts\\\\BOOKOSI.TTF',\n",
              " 'C:\\\\Windows\\\\Fonts\\\\FORTE.TTF',\n",
              " 'C:\\\\Windows\\\\Fonts\\\\H2GTRM.TTF',\n",
              " 'C:\\\\Windows\\\\Fonts\\\\segoeuiz.ttf',\n",
              " 'C:\\\\Windows\\\\Fonts\\\\HATTEN.TTF',\n",
              " 'C:\\\\Windows\\\\Fonts\\\\BOD_BLAI.TTF',\n",
              " 'C:\\\\Windows\\\\Fonts\\\\timesbd.ttf',\n",
              " 'C:\\\\Windows\\\\Fonts\\\\GOUDOS.TTF',\n",
              " 'C:\\\\Windows\\\\Fonts\\\\corbelb.ttf',\n",
              " 'C:\\\\Windows\\\\Fonts\\\\corbell.ttf',\n",
              " 'C:\\\\Windows\\\\Fonts\\\\HMFMOLD.TTF',\n",
              " 'C:\\\\Windows\\\\Fonts\\\\KozMinPro-Light.otf',\n",
              " 'C:\\\\Windows\\\\Fonts\\\\ariali.ttf',\n",
              " 'C:\\\\Windows\\\\Fonts\\\\LTYPE.TTF',\n",
              " 'C:\\\\Windows\\\\Fonts\\\\Sitka.ttc',\n",
              " 'C:\\\\Windows\\\\Fonts\\\\HARLOWSI.TTF',\n",
              " 'C:\\\\Windows\\\\Fonts\\\\WINGDNG3.TTF',\n",
              " 'C:\\\\Windows\\\\Fonts\\\\courbi.ttf',\n",
              " 'C:\\\\Windows\\\\Fonts\\\\AdobeHeitiStd-Regular.otf',\n",
              " 'C:\\\\Windows\\\\Fonts\\\\ACaslonPro-Italic.otf',\n",
              " 'C:\\\\Windows\\\\Fonts\\\\FREESCPT.TTF',\n",
              " 'C:\\\\Windows\\\\Fonts\\\\MinionPro-BoldCnIt.otf',\n",
              " 'C:\\\\Windows\\\\Fonts\\\\AdobeDevanagari-BoldItalic.otf',\n",
              " 'C:\\\\Windows\\\\Fonts\\\\BOD_B.TTF',\n",
              " 'C:\\\\Windows\\\\Fonts\\\\Hancom Gothic Bold.ttf',\n",
              " 'C:\\\\Windows\\\\Fonts\\\\TCMI____.TTF',\n",
              " 'C:\\\\Windows\\\\Fonts\\\\simsun.ttc',\n",
              " 'C:\\\\Windows\\\\Fonts\\\\CENTAUR.TTF',\n",
              " 'C:\\\\Windows\\\\Fonts\\\\AdobeDevanagari-Regular.otf',\n",
              " 'C:\\\\Windows\\\\Fonts\\\\segoeuii.ttf',\n",
              " 'C:\\\\Windows\\\\Fonts\\\\ACaslonPro-Bold.otf',\n",
              " 'C:\\\\Windows\\\\Fonts\\\\batang.ttc',\n",
              " 'C:\\\\Windows\\\\Fonts\\\\MyriadPro-BoldIt.otf',\n",
              " 'C:\\\\Windows\\\\Fonts\\\\KozMinPr6N-Regular.otf',\n",
              " 'C:\\\\Windows\\\\Fonts\\\\AdobeNaskh-Medium.otf',\n",
              " 'C:\\\\Windows\\\\Fonts\\\\arialbi.ttf',\n",
              " 'C:\\\\Windows\\\\Fonts\\\\georgiab.ttf',\n",
              " 'C:\\\\Windows\\\\Fonts\\\\msyh.ttc',\n",
              " 'C:\\\\Windows\\\\Fonts\\\\GARA.TTF',\n",
              " 'C:\\\\Windows\\\\Fonts\\\\LFAXD.TTF',\n",
              " 'C:\\\\Windows\\\\Fonts\\\\AdobeHebrew-Regular.otf',\n",
              " 'C:\\\\Windows\\\\Fonts\\\\constanb.ttf',\n",
              " 'C:\\\\Windows\\\\Fonts\\\\CooperBlackStd.otf',\n",
              " 'C:\\\\Windows\\\\Fonts\\\\OratorStd-Slanted.otf',\n",
              " 'C:\\\\Windows\\\\Fonts\\\\PrestigeEliteStd-Bd.otf',\n",
              " 'C:\\\\Windows\\\\Fonts\\\\BOD_BLAR.TTF',\n",
              " 'C:\\\\Windows\\\\Fonts\\\\GILC____.TTF',\n",
              " 'C:\\\\Windows\\\\Fonts\\\\VLADIMIR.TTF',\n",
              " 'C:\\\\Windows\\\\Fonts\\\\palab.ttf',\n",
              " 'C:\\\\Windows\\\\Fonts\\\\msyhl.ttc',\n",
              " 'C:\\\\Windows\\\\Fonts\\\\FRAHV.TTF',\n",
              " 'C:\\\\Windows\\\\Fonts\\\\verdanai.ttf',\n",
              " 'C:\\\\Windows\\\\Fonts\\\\consolai.ttf',\n",
              " 'C:\\\\Windows\\\\Fonts\\\\ROCKB.TTF',\n",
              " 'C:\\\\Windows\\\\Fonts\\\\PERTILI.TTF',\n",
              " 'C:\\\\Windows\\\\Fonts\\\\LBRITEDI.TTF',\n",
              " 'C:\\\\Windows\\\\Fonts\\\\AdobeDevanagari-Bold.otf',\n",
              " 'C:\\\\Windows\\\\Fonts\\\\FRAMDCN.TTF',\n",
              " 'C:\\\\Windows\\\\Fonts\\\\calibrib.ttf',\n",
              " 'C:\\\\Windows\\\\Fonts\\\\ROCK.TTF',\n",
              " 'C:\\\\Windows\\\\Fonts\\\\GLSNECB.TTF',\n",
              " 'C:\\\\Windows\\\\Fonts\\\\MAIAN.TTF',\n",
              " 'C:\\\\Windows\\\\Fonts\\\\BELLB.TTF',\n",
              " 'C:\\\\Windows\\\\Fonts\\\\MyriadPro-BoldCondIt.otf',\n",
              " 'C:\\\\Windows\\\\Fonts\\\\KozGoPro-Bold.otf',\n",
              " 'C:\\\\Windows\\\\Fonts\\\\l_10646.ttf',\n",
              " 'C:\\\\Windows\\\\Fonts\\\\GOTHIC.TTF',\n",
              " 'C:\\\\Windows\\\\Fonts\\\\LithosPro-Black.otf',\n",
              " 'C:\\\\Windows\\\\Fonts\\\\ariblk.ttf',\n",
              " 'C:\\\\Windows\\\\Fonts\\\\FRADMCN.TTF',\n",
              " 'C:\\\\Windows\\\\Fonts\\\\micross.ttf',\n",
              " 'C:\\\\Windows\\\\Fonts\\\\corbelli.ttf',\n",
              " 'C:\\\\Windows\\\\Fonts\\\\BOD_R.TTF',\n",
              " 'C:\\\\Windows\\\\Fonts\\\\KozGoPro-Medium.otf',\n",
              " 'C:\\\\Windows\\\\Fonts\\\\impact.ttf',\n",
              " 'C:\\\\Windows\\\\Fonts\\\\malgun.ttf',\n",
              " 'C:\\\\Windows\\\\Fonts\\\\CHILLER.TTF',\n",
              " 'C:\\\\Windows\\\\Fonts\\\\GARAIT.TTF',\n",
              " 'C:\\\\Windows\\\\Fonts\\\\TEMPSITC.TTF',\n",
              " 'C:\\\\Windows\\\\Fonts\\\\calibrili.ttf',\n",
              " 'C:\\\\Windows\\\\Fonts\\\\ITCKRIST.TTF',\n",
              " 'C:\\\\Windows\\\\Fonts\\\\segoesc.ttf',\n",
              " 'C:\\\\Windows\\\\Fonts\\\\CENTURY.TTF',\n",
              " 'C:\\\\Windows\\\\Fonts\\\\CharlemagneStd-Bold.otf',\n",
              " 'C:\\\\Windows\\\\Fonts\\\\LTYPEB.TTF',\n",
              " 'C:\\\\Windows\\\\Fonts\\\\KozGoPr6N-Light.otf',\n",
              " 'C:\\\\Windows\\\\Fonts\\\\GILSANUB.TTF',\n",
              " 'C:\\\\Windows\\\\Fonts\\\\ntailub.ttf',\n",
              " 'C:\\\\Windows\\\\Fonts\\\\javatext.ttf',\n",
              " 'C:\\\\Windows\\\\Fonts\\\\DUBAI-LIGHT.TTF',\n",
              " 'C:\\\\Windows\\\\Fonts\\\\times.ttf',\n",
              " 'C:\\\\Windows\\\\Fonts\\\\HMKMRHD.TTF',\n",
              " 'C:\\\\Windows\\\\Fonts\\\\PERTIBD.TTF',\n",
              " 'C:\\\\Windows\\\\Fonts\\\\PERI____.TTF',\n",
              " 'C:\\\\Windows\\\\Fonts\\\\segoeuisl.ttf',\n",
              " 'C:\\\\Windows\\\\Fonts\\\\verdanab.ttf',\n",
              " 'C:\\\\Windows\\\\Fonts\\\\HANDotum.ttf',\n",
              " 'C:\\\\Windows\\\\Fonts\\\\HTOWERT.TTF',\n",
              " 'C:\\\\Windows\\\\Fonts\\\\KozMinPr6N-Medium.otf',\n",
              " 'C:\\\\Windows\\\\Fonts\\\\trebuc.ttf',\n",
              " 'C:\\\\Windows\\\\Fonts\\\\RAGE.TTF',\n",
              " 'C:\\\\Windows\\\\Fonts\\\\msyhbd.ttc',\n",
              " 'C:\\\\Windows\\\\Fonts\\\\AGaramondPro-Bold.otf',\n",
              " 'C:\\\\Windows\\\\Fonts\\\\OCRAStd.otf',\n",
              " 'C:\\\\Windows\\\\Fonts\\\\YuGothM.ttc',\n",
              " 'C:\\\\Windows\\\\Fonts\\\\ROCKEB.TTF',\n",
              " 'C:\\\\Windows\\\\Fonts\\\\COLONNA.TTF',\n",
              " 'C:\\\\Windows\\\\Fonts\\\\GIGI.TTF',\n",
              " 'C:\\\\Windows\\\\Fonts\\\\LEELAWAD.TTF',\n",
              " 'C:\\\\Windows\\\\Fonts\\\\SCRIPTBL.TTF',\n",
              " 'C:\\\\Windows\\\\Fonts\\\\WINGDNG2.TTF',\n",
              " 'C:\\\\Windows\\\\Fonts\\\\segoeuil.ttf',\n",
              " 'C:\\\\Windows\\\\Fonts\\\\MinionPro-BoldIt.otf',\n",
              " 'C:\\\\Windows\\\\Fonts\\\\comici.ttf',\n",
              " 'C:\\\\Windows\\\\Fonts\\\\GILB____.TTF',\n",
              " 'C:\\\\Windows\\\\Fonts\\\\MyriadArabic-Bold.otf',\n",
              " 'C:\\\\Windows\\\\Fonts\\\\FRADMIT.TTF',\n",
              " 'C:\\\\Windows\\\\Fonts\\\\couri.ttf',\n",
              " 'C:\\\\Windows\\\\Fonts\\\\pala.ttf',\n",
              " 'C:\\\\Windows\\\\Fonts\\\\ROCKI.TTF',\n",
              " 'C:\\\\Windows\\\\Fonts\\\\calibril.ttf',\n",
              " 'C:\\\\Windows\\\\Fonts\\\\HANDotumExt.ttf',\n",
              " 'C:\\\\Windows\\\\Fonts\\\\GOUDOSB.TTF',\n",
              " 'C:\\\\Windows\\\\Fonts\\\\segoeprb.ttf',\n",
              " 'C:\\\\Windows\\\\Fonts\\\\H2MKPB.TTF',\n",
              " 'C:\\\\Windows\\\\Fonts\\\\framd.ttf',\n",
              " 'C:\\\\Windows\\\\Fonts\\\\KozMinPro-Heavy.otf',\n",
              " 'C:\\\\Windows\\\\Fonts\\\\verdana.ttf',\n",
              " 'C:\\\\Windows\\\\Fonts\\\\TektonPro-BoldExt.otf',\n",
              " 'C:\\\\Windows\\\\Fonts\\\\StencilStd.otf',\n",
              " 'C:\\\\Windows\\\\Fonts\\\\Candaral.ttf',\n",
              " 'C:\\\\Windows\\\\Fonts\\\\FRSCRIPT.TTF',\n",
              " 'C:\\\\Windows\\\\Fonts\\\\seguibl.ttf',\n",
              " 'C:\\\\Windows\\\\Fonts\\\\ROCC____.TTF',\n",
              " 'C:\\\\Windows\\\\Fonts\\\\BOOKOSBI.TTF',\n",
              " 'C:\\\\Windows\\\\Fonts\\\\LetterGothicStd-Bold.otf',\n",
              " 'C:\\\\Windows\\\\Fonts\\\\segmdl2.ttf',\n",
              " 'C:\\\\Windows\\\\Fonts\\\\HMKMAMI.TTF',\n",
              " 'C:\\\\Windows\\\\Fonts\\\\YuGothB.ttc',\n",
              " 'C:\\\\Windows\\\\Fonts\\\\NuevaStd-CondItalic.otf',\n",
              " 'C:\\\\Windows\\\\Fonts\\\\TrajanPro-Bold.otf',\n",
              " 'C:\\\\Windows\\\\Fonts\\\\MyriadHebrew-Bold.otf',\n",
              " 'C:\\\\Windows\\\\Fonts\\\\LBRITED.TTF',\n",
              " 'C:\\\\Windows\\\\Fonts\\\\ROCKBI.TTF',\n",
              " 'C:\\\\Windows\\\\Fonts\\\\BOD_CB.TTF',\n",
              " 'C:\\\\Windows\\\\Fonts\\\\seguihis.ttf',\n",
              " 'C:\\\\Windows\\\\Fonts\\\\SitkaZ.ttc',\n",
              " 'C:\\\\Windows\\\\Fonts\\\\ERASBD.TTF',\n",
              " 'C:\\\\Windows\\\\Fonts\\\\bahnschrift.ttf',\n",
              " 'C:\\\\Windows\\\\Fonts\\\\CASTELAR.TTF',\n",
              " 'C:\\\\Windows\\\\Fonts\\\\seguisli.ttf',\n",
              " 'C:\\\\Windows\\\\Fonts\\\\PLAYBILL.TTF',\n",
              " 'C:\\\\Windows\\\\Fonts\\\\HANBatangExt.ttf',\n",
              " 'C:\\\\Windows\\\\Fonts\\\\LFAXDI.TTF',\n",
              " 'C:\\\\Windows\\\\Fonts\\\\CALISTB.TTF',\n",
              " 'C:\\\\Windows\\\\Fonts\\\\BOD_CR.TTF',\n",
              " 'C:\\\\Windows\\\\Fonts\\\\HoboStd.otf',\n",
              " 'C:\\\\Windows\\\\Fonts\\\\MinionPro-BoldCn.otf',\n",
              " 'C:\\\\Windows\\\\Fonts\\\\msgothic.ttc',\n",
              " 'C:\\\\Windows\\\\Fonts\\\\AdobeGothicStd-Bold.otf',\n",
              " 'C:\\\\Windows\\\\Fonts\\\\CALIFB.TTF',\n",
              " 'C:\\\\Windows\\\\Fonts\\\\courbd.ttf',\n",
              " 'C:\\\\Windows\\\\Fonts\\\\LeelawUI.ttf',\n",
              " 'C:\\\\Windows\\\\Fonts\\\\KozGoPr6N-ExtraLight.otf',\n",
              " 'C:\\\\Windows\\\\Fonts\\\\AGaramondPro-Regular.otf',\n",
              " 'C:\\\\Windows\\\\Fonts\\\\timesi.ttf',\n",
              " 'C:\\\\Windows\\\\Fonts\\\\ITCBLKAD.TTF',\n",
              " 'C:\\\\Windows\\\\Fonts\\\\GILBI___.TTF',\n",
              " 'C:\\\\Windows\\\\Fonts\\\\LFAXI.TTF',\n",
              " 'C:\\\\Windows\\\\Fonts\\\\ROCCB___.TTF',\n",
              " 'C:\\\\Windows\\\\Fonts\\\\ELEPHNT.TTF',\n",
              " 'C:\\\\Windows\\\\Fonts\\\\SitkaI.ttc',\n",
              " 'C:\\\\Windows\\\\Fonts\\\\KozGoPro-ExtraLight.otf',\n",
              " 'C:\\\\Windows\\\\Fonts\\\\mmrtext.ttf',\n",
              " 'C:\\\\Windows\\\\Fonts\\\\MinionPro-Medium.otf',\n",
              " 'C:\\\\Windows\\\\Fonts\\\\calibriz.ttf',\n",
              " 'C:\\\\Windows\\\\Fonts\\\\RosewoodStd-Regular.otf',\n",
              " 'C:\\\\Windows\\\\Fonts\\\\segoepr.ttf',\n",
              " 'C:\\\\Windows\\\\Fonts\\\\TCB_____.TTF',\n",
              " 'C:\\\\Windows\\\\Fonts\\\\ebrima.ttf',\n",
              " 'C:\\\\Windows\\\\Fonts\\\\MinionPro-Bold.otf',\n",
              " 'C:\\\\Windows\\\\Fonts\\\\calibrii.ttf',\n",
              " 'C:\\\\Windows\\\\Fonts\\\\H2GSRB.TTF',\n",
              " 'C:\\\\Windows\\\\Fonts\\\\ELEPHNTI.TTF',\n",
              " 'C:\\\\Windows\\\\Fonts\\\\HTOWERTI.TTF',\n",
              " 'C:\\\\Windows\\\\Fonts\\\\AdobeSongStd-Light.otf',\n",
              " 'C:\\\\Windows\\\\Fonts\\\\trebucit.ttf',\n",
              " 'C:\\\\Windows\\\\Fonts\\\\H2HDRM.TTF',\n",
              " 'C:\\\\Windows\\\\Fonts\\\\corbel.ttf',\n",
              " 'C:\\\\Windows\\\\Fonts\\\\ARIALNBI.TTF',\n",
              " 'C:\\\\Windows\\\\Fonts\\\\constan.ttf',\n",
              " 'C:\\\\Windows\\\\Fonts\\\\STENCIL.TTF',\n",
              " 'C:\\\\Windows\\\\Fonts\\\\ARIALNB.TTF',\n",
              " 'C:\\\\Windows\\\\Fonts\\\\BKANT.TTF',\n",
              " 'C:\\\\Windows\\\\Fonts\\\\LATINWD.TTF',\n",
              " 'C:\\\\Windows\\\\Fonts\\\\YuGothR.ttc',\n",
              " 'C:\\\\Windows\\\\Fonts\\\\POORICH.TTF',\n",
              " 'C:\\\\Windows\\\\Fonts\\\\comicbd.ttf',\n",
              " 'C:\\\\Windows\\\\Fonts\\\\LSANSI.TTF',\n",
              " 'C:\\\\Windows\\\\Fonts\\\\BOD_BI.TTF',\n",
              " 'C:\\\\Windows\\\\Fonts\\\\segoeuib.ttf',\n",
              " 'C:\\\\Windows\\\\Fonts\\\\LetterGothicStd-Slanted.otf',\n",
              " 'C:\\\\Windows\\\\Fonts\\\\ntailu.ttf',\n",
              " 'C:\\\\Windows\\\\Fonts\\\\BRLNSR.TTF',\n",
              " 'C:\\\\Windows\\\\Fonts\\\\monbaiti.ttf',\n",
              " 'C:\\\\Windows\\\\Fonts\\\\PRISTINA.TTF',\n",
              " 'C:\\\\Windows\\\\Fonts\\\\LetterGothicStd-BoldSlanted.otf',\n",
              " 'C:\\\\Windows\\\\Fonts\\\\KozGoPr6N-Heavy.otf',\n",
              " 'C:\\\\Windows\\\\Fonts\\\\HYHWPEQ.TTF',\n",
              " 'C:\\\\Windows\\\\Fonts\\\\TrajanPro-Regular.otf',\n",
              " 'C:\\\\Windows\\\\Fonts\\\\AGENCYR.TTF',\n",
              " 'C:\\\\Windows\\\\Fonts\\\\COPRGTB.TTF',\n",
              " 'C:\\\\Windows\\\\Fonts\\\\gadugib.ttf',\n",
              " 'C:\\\\Windows\\\\Fonts\\\\HANBatangExtBB.ttf',\n",
              " 'C:\\\\Windows\\\\Fonts\\\\KozMinPro-Regular.otf',\n",
              " 'C:\\\\Windows\\\\Fonts\\\\MyriadPro-Cond.otf',\n",
              " 'C:\\\\Windows\\\\Fonts\\\\seguibli.ttf',\n",
              " 'C:\\\\Windows\\\\Fonts\\\\MAGNETOB.TTF',\n",
              " 'C:\\\\Windows\\\\Fonts\\\\MyriadHebrew-It.otf',\n",
              " 'C:\\\\Windows\\\\Fonts\\\\ERASMD.TTF',\n",
              " 'C:\\\\Windows\\\\Fonts\\\\OUTLOOK.TTF',\n",
              " 'C:\\\\Windows\\\\Fonts\\\\tahomabd.ttf',\n",
              " 'C:\\\\Windows\\\\Fonts\\\\AGaramondPro-BoldItalic.otf',\n",
              " 'C:\\\\Windows\\\\Fonts\\\\ChaparralPro-Bold.otf',\n",
              " 'C:\\\\Windows\\\\Fonts\\\\MTEXTRA.TTF',\n",
              " 'C:\\\\Windows\\\\Fonts\\\\HMFMPYUN.TTF',\n",
              " 'C:\\\\Windows\\\\Fonts\\\\seguisbi.ttf',\n",
              " 'C:\\\\Windows\\\\Fonts\\\\HMFMMUEX.TTC',\n",
              " 'C:\\\\Windows\\\\Fonts\\\\ACaslonPro-Regular.otf',\n",
              " 'C:\\\\Windows\\\\Fonts\\\\H2PORL.TTF',\n",
              " 'C:\\\\Windows\\\\Fonts\\\\KozGoPro-Light.otf',\n",
              " 'C:\\\\Windows\\\\Fonts\\\\taile.ttf',\n",
              " 'C:\\\\Windows\\\\Fonts\\\\KozGoPr6N-Medium.otf',\n",
              " 'C:\\\\Windows\\\\Fonts\\\\PERBI___.TTF',\n",
              " 'C:\\\\Windows\\\\Fonts\\\\RAVIE.TTF',\n",
              " 'C:\\\\Windows\\\\Fonts\\\\AdobeArabic-Italic.otf',\n",
              " 'C:\\\\Windows\\\\Fonts\\\\KUNSTLER.TTF',\n",
              " 'C:\\\\Windows\\\\Fonts\\\\TCCM____.TTF',\n",
              " 'C:\\\\Users\\\\user\\\\AppData\\\\Local\\\\Microsoft\\\\Windows\\\\Fonts\\\\NanumBarunGothicBold.ttf',\n",
              " 'C:\\\\Windows\\\\Fonts\\\\symbol.ttf',\n",
              " 'C:\\\\Windows\\\\Fonts\\\\AdobeMingStd-Light.otf',\n",
              " 'C:\\\\Windows\\\\Fonts\\\\AdobeDevanagari-Italic.otf',\n",
              " 'C:\\\\Windows\\\\Fonts\\\\trebucbd.ttf',\n",
              " 'C:\\\\Windows\\\\Fonts\\\\NirmalaS.ttf',\n",
              " 'C:\\\\Windows\\\\Fonts\\\\NuevaStd-Bold.otf',\n",
              " 'C:\\\\Windows\\\\Fonts\\\\AdobeFangsongStd-Regular.otf',\n",
              " 'C:\\\\Windows\\\\Fonts\\\\SitkaB.ttc',\n",
              " 'C:\\\\Windows\\\\Fonts\\\\NirmalaB.ttf',\n",
              " 'C:\\\\Windows\\\\Fonts\\\\H2MJSM.TTF',\n",
              " 'C:\\\\Windows\\\\Fonts\\\\AGaramondPro-Italic.otf',\n",
              " 'C:\\\\Windows\\\\Fonts\\\\BOD_I.TTF',\n",
              " 'C:\\\\Windows\\\\Fonts\\\\palai.ttf',\n",
              " 'C:\\\\Windows\\\\Fonts\\\\REFSPCL.TTF',\n",
              " 'C:\\\\Windows\\\\Fonts\\\\ChaparralPro-Italic.otf',\n",
              " 'C:\\\\Windows\\\\Fonts\\\\TCCB____.TTF',\n",
              " 'C:\\\\Windows\\\\Fonts\\\\AdobeHebrew-BoldItalic.otf',\n",
              " 'C:\\\\Windows\\\\Fonts\\\\KozMinPr6N-Light.otf',\n",
              " 'C:\\\\Windows\\\\Fonts\\\\BRADHITC.TTF',\n",
              " 'C:\\\\Windows\\\\Fonts\\\\georgiaz.ttf',\n",
              " 'C:\\\\Windows\\\\Fonts\\\\CALIST.TTF',\n",
              " 'C:\\\\Windows\\\\Fonts\\\\malgunbd.ttf',\n",
              " 'C:\\\\Windows\\\\Fonts\\\\SCHLBKB.TTF',\n",
              " 'C:\\\\Windows\\\\Fonts\\\\BROADW.TTF',\n",
              " 'C:\\\\Windows\\\\Fonts\\\\BERNHC.TTF',\n",
              " 'C:\\\\Windows\\\\Fonts\\\\GIL_____.TTF',\n",
              " 'C:\\\\Windows\\\\Fonts\\\\BRLNSDB.TTF',\n",
              " 'C:\\\\Windows\\\\Fonts\\\\BOOKOSB.TTF',\n",
              " 'C:\\\\Windows\\\\Fonts\\\\DUBAI-MEDIUM.TTF',\n",
              " 'C:\\\\Windows\\\\Fonts\\\\AdobeArabic-Bold.otf',\n",
              " 'C:\\\\Windows\\\\Fonts\\\\consola.ttf',\n",
              " 'C:\\\\Windows\\\\Fonts\\\\FTLTLT.TTF',\n",
              " 'C:\\\\Windows\\\\Fonts\\\\BRUSHSCI.TTF',\n",
              " 'C:\\\\Windows\\\\Fonts\\\\calibri.ttf',\n",
              " 'C:\\\\Users\\\\user\\\\AppData\\\\Local\\\\Microsoft\\\\Windows\\\\Fonts\\\\NanumBarunGothicUltraLight.ttf',\n",
              " 'C:\\\\Windows\\\\Fonts\\\\webdings.ttf',\n",
              " 'C:\\\\Windows\\\\Fonts\\\\ANTQUAB.TTF',\n",
              " 'C:\\\\Windows\\\\Fonts\\\\MyriadArabic-BoldIt.otf',\n",
              " 'C:\\\\Windows\\\\Fonts\\\\PALSCRI.TTF',\n",
              " 'C:\\\\Windows\\\\Fonts\\\\Gabriola.ttf',\n",
              " 'C:\\\\Windows\\\\Fonts\\\\phagspab.ttf',\n",
              " 'C:\\\\Windows\\\\Fonts\\\\IMPRISHA.TTF',\n",
              " 'C:\\\\Windows\\\\Fonts\\\\GARABD.TTF',\n",
              " 'C:\\\\Windows\\\\Fonts\\\\comic.ttf',\n",
              " 'C:\\\\Windows\\\\Fonts\\\\REFSAN.TTF',\n",
              " 'C:\\\\Windows\\\\Fonts\\\\LeelUIsl.ttf',\n",
              " 'C:\\\\Windows\\\\Fonts\\\\TektonPro-BoldCond.otf',\n",
              " 'C:\\\\Windows\\\\Fonts\\\\OCRAEXT.TTF',\n",
              " 'C:\\\\Windows\\\\Fonts\\\\BRLNSB.TTF',\n",
              " 'C:\\\\Windows\\\\Fonts\\\\ChaparralPro-Regular.otf',\n",
              " 'C:\\\\Windows\\\\Fonts\\\\Candaraz.ttf',\n",
              " 'C:\\\\Windows\\\\Fonts\\\\VINERITC.TTF',\n",
              " 'C:\\\\Windows\\\\Fonts\\\\JOKERMAN.TTF',\n",
              " 'C:\\\\Windows\\\\Fonts\\\\GiddyupStd.otf',\n",
              " 'C:\\\\Windows\\\\Fonts\\\\ACaslonPro-SemiboldItalic.otf',\n",
              " 'C:\\\\Windows\\\\Fonts\\\\holomdl2.ttf',\n",
              " 'C:\\\\Windows\\\\Fonts\\\\NIAGSOL.TTF',\n",
              " 'C:\\\\Windows\\\\Fonts\\\\MinionPro-Regular.otf',\n",
              " 'C:\\\\Windows\\\\Fonts\\\\NuevaStd-BoldCond.otf']"
            ]
          },
          "metadata": {
            "tags": []
          },
          "execution_count": 81
        }
      ]
    },
    {
      "cell_type": "code",
      "metadata": {
        "id": "Pwn90FkIA1C4",
        "colab_type": "code",
        "colab": {}
      },
      "source": [
        "rc('font', family='gulim')"
      ],
      "execution_count": null,
      "outputs": []
    },
    {
      "cell_type": "code",
      "metadata": {
        "id": "LFIdn25hA1C6",
        "colab_type": "code",
        "colab": {},
        "outputId": "ca675d83-864f-4d3b-e46c-8fafeca903b9"
      },
      "source": [
        "plt.plot(a,b,'-.', color = 'red')\n",
        "plt.plot([1,2,3,4,5],[88,50,70,100,90],'--')\n",
        "plt.xlabel('x')\n",
        "plt.ylabel('y')\n",
        "plt.title('한글')\n",
        "plt.legend('ab')"
      ],
      "execution_count": null,
      "outputs": [
        {
          "output_type": "execute_result",
          "data": {
            "text/plain": [
              "<matplotlib.legend.Legend at 0x1bd4d40b488>"
            ]
          },
          "metadata": {
            "tags": []
          },
          "execution_count": 110
        },
        {
          "output_type": "display_data",
          "data": {
            "image/png": "[encoded data removed]",
            "text/plain": [
              "<Figure size 432x288 with 1 Axes>"
            ]
          },
          "metadata": {
            "tags": [],
            "needs_background": "light"
          }
        }
      ]
    },
    {
      "cell_type": "code",
      "metadata": {
        "scrolled": false,
        "id": "UzTynZONA1C8",
        "colab_type": "code",
        "colab": {},
        "outputId": "c5a34875-1d17-4d75-ef84-48b7f31f8d25"
      },
      "source": [
        "import pandas as pd\n",
        "file = pd.read_csv('B.csv',encoding='cp949')\n",
        "t=file.head()\n",
        "a = t['이름']\n",
        "b = t['국어']\n",
        "plt.plot(a,b,'--', color = 'green')\n",
        "plt.xlabel('x')\n",
        "plt.ylabel('y')\n",
        "plt.title('국어성적')\n",
        "plt.legend('K')"
      ],
      "execution_count": null,
      "outputs": [
        {
          "output_type": "execute_result",
          "data": {
            "text/plain": [
              "<matplotlib.legend.Legend at 0x1bd4f6caa08>"
            ]
          },
          "metadata": {
            "tags": []
          },
          "execution_count": 156
        },
        {
          "output_type": "display_data",
          "data": {
            "image/png": "[encoded data removed]",
            "text/plain": [
              "<Figure size 432x288 with 1 Axes>"
            ]
          },
          "metadata": {
            "tags": [],
            "needs_background": "light"
          }
        }
      ]
    }
  ]
}