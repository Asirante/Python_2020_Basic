{
  "nbformat": 4,
  "nbformat_minor": 0,
  "metadata": {
    "colab": {
      "name": "7일차 과제.ipynb",
      "provenance": [],
      "authorship_tag": "ABX9TyNH4ojCbplehdve5ShjTddU",
      "include_colab_link": true
    },
    "kernelspec": {
      "name": "python3",
      "display_name": "Python 3"
    }
  },
  "cells": [
    {
      "cell_type": "markdown",
      "metadata": {
        "id": "view-in-github",
        "colab_type": "text"
      },
      "source": [
        "<a href=\"https://colab.research.google.com/github/Asirante/Python_2020_Basic/blob/master/7%EC%9D%BC%EC%B0%A8_%EA%B3%BC%EC%A0%9C.ipynb\" target=\"_parent\"><img src=\"https://colab.research.google.com/assets/colab-badge.svg\" alt=\"Open In Colab\"/></a>"
      ]
    },
    {
      "cell_type": "markdown",
      "metadata": {
        "id": "BAT-ybD2LMDM",
        "colab_type": "text"
      },
      "source": [
        "**1번**"
      ]
    },
    {
      "cell_type": "code",
      "metadata": {
        "id": "KrmG7EG7LBrm",
        "colab_type": "code",
        "colab": {
          "base_uri": "https://localhost:8080/",
          "height": 98
        },
        "outputId": "c70fdae2-ce60-4f2c-ba62-c54547e04997"
      },
      "source": [
        "jumsu = [100,75,67,45,80]\n",
        "for i, val in enumerate(jumsu) :\n",
        "  if val >= 60 :\n",
        "    print(\"%d 번 학생은 합격입니다.\"%(i+1))\n",
        "  else : \n",
        "    print(\"%d 번 학생은 불합격입니다.\"%(i+1))"
      ],
      "execution_count": 2,
      "outputs": [
        {
          "output_type": "stream",
          "text": [
            "1 번 학생은 합격입니다.\n",
            "2 번 학생은 합격입니다.\n",
            "3 번 학생은 합격입니다.\n",
            "4 번 학생은 불합격입니다.\n",
            "5 번 학생은 합격입니다.\n"
          ],
          "name": "stdout"
        }
      ]
    },
    {
      "cell_type": "markdown",
      "metadata": {
        "id": "ff-nPhESLIFB",
        "colab_type": "text"
      },
      "source": [
        "**2번**"
      ]
    },
    {
      "cell_type": "code",
      "metadata": {
        "id": "MvsdvWXDLEo1",
        "colab_type": "code",
        "colab": {
          "base_uri": "https://localhost:8080/",
          "height": 191
        },
        "outputId": "c7deb0ef-b055-4e1b-d8d3-5d5d6ca3e918"
      },
      "source": [
        "import pandas as pd\n",
        "covid = [['인천','30','12','1'],['부산','40','350','4'],['대구','70','650','31'],['서울','50','10','4'],['제주','10','5','0']]\n",
        "df = pd.DataFrame(covid)\n",
        "df.index = [1,2,3,4,5]\n",
        "df.columns = ['지역','병상','확진자','사망자']\n",
        "df"
      ],
      "execution_count": 5,
      "outputs": [
        {
          "output_type": "execute_result",
          "data": {
            "text/html": [
              "<div>\n",
              "<style scoped>\n",
              "    .dataframe tbody tr th:only-of-type {\n",
              "        vertical-align: middle;\n",
              "    }\n",
              "\n",
              "    .dataframe tbody tr th {\n",
              "        vertical-align: top;\n",
              "    }\n",
              "\n",
              "    .dataframe thead th {\n",
              "        text-align: right;\n",
              "    }\n",
              "</style>\n",
              "<table border=\"1\" class=\"dataframe\">\n",
              "  <thead>\n",
              "    <tr style=\"text-align: right;\">\n",
              "      <th></th>\n",
              "      <th>지역</th>\n",
              "      <th>병상</th>\n",
              "      <th>확진자</th>\n",
              "      <th>사망자</th>\n",
              "    </tr>\n",
              "  </thead>\n",
              "  <tbody>\n",
              "    <tr>\n",
              "      <th>1</th>\n",
              "      <td>인천</td>\n",
              "      <td>30</td>\n",
              "      <td>12</td>\n",
              "      <td>1</td>\n",
              "    </tr>\n",
              "    <tr>\n",
              "      <th>2</th>\n",
              "      <td>부산</td>\n",
              "      <td>40</td>\n",
              "      <td>350</td>\n",
              "      <td>4</td>\n",
              "    </tr>\n",
              "    <tr>\n",
              "      <th>3</th>\n",
              "      <td>대구</td>\n",
              "      <td>70</td>\n",
              "      <td>650</td>\n",
              "      <td>31</td>\n",
              "    </tr>\n",
              "    <tr>\n",
              "      <th>4</th>\n",
              "      <td>서울</td>\n",
              "      <td>50</td>\n",
              "      <td>10</td>\n",
              "      <td>4</td>\n",
              "    </tr>\n",
              "    <tr>\n",
              "      <th>5</th>\n",
              "      <td>제주</td>\n",
              "      <td>10</td>\n",
              "      <td>5</td>\n",
              "      <td>0</td>\n",
              "    </tr>\n",
              "  </tbody>\n",
              "</table>\n",
              "</div>"
            ],
            "text/plain": [
              "   지역  병상  확진자 사망자\n",
              "1  인천  30   12   1\n",
              "2  부산  40  350   4\n",
              "3  대구  70  650  31\n",
              "4  서울  50   10   4\n",
              "5  제주  10    5   0"
            ]
          },
          "metadata": {
            "tags": []
          },
          "execution_count": 5
        }
      ]
    }
  ]
}