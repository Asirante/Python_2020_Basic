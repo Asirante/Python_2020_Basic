{
  "nbformat": 4,
  "nbformat_minor": 0,
  "metadata": {
    "colab": {
      "name": "4일차 1교시.ipynb",
      "provenance": [],
      "authorship_tag": "ABX9TyMKhA5GFBlizDGEeVTB4bb8",
      "include_colab_link": true
    },
    "kernelspec": {
      "name": "python3",
      "display_name": "Python 3"
    }
  },
  "cells": [
    {
      "cell_type": "markdown",
      "metadata": {
        "id": "view-in-github",
        "colab_type": "text"
      },
      "source": [
        "<a href=\"https://colab.research.google.com/github/Asirante/Python_2020_Basic/blob/master/4%EC%9D%BC%EC%B0%A8_1%EA%B5%90%EC%8B%9C.ipynb\" target=\"_parent\"><img src=\"https://colab.research.google.com/assets/colab-badge.svg\" alt=\"Open In Colab\"/></a>"
      ]
    },
    {
      "cell_type": "markdown",
      "metadata": {
        "id": "moiIW2hE70ue",
        "colab_type": "text"
      },
      "source": [
        "**[학습목표]**\n",
        "\n",
        "1. List. Range\n",
        "2. For문\n",
        "\n",
        "\n",
        "---\n",
        "\n"
      ]
    },
    {
      "cell_type": "code",
      "metadata": {
        "id": "Nwmf_YkT7-G3",
        "colab_type": "code",
        "colab": {
          "base_uri": "https://localhost:8080/",
          "height": 34
        },
        "outputId": "ef128270-4799-4c8b-d8ac-1d27148b98a1"
      },
      "source": [
        "range(5)"
      ],
      "execution_count": 6,
      "outputs": [
        {
          "output_type": "execute_result",
          "data": {
            "text/plain": [
              "range(1, 6)"
            ]
          },
          "metadata": {
            "tags": []
          },
          "execution_count": 6
        }
      ]
    },
    {
      "cell_type": "code",
      "metadata": {
        "id": "OdofkWBH8Qy0",
        "colab_type": "code",
        "colab": {
          "base_uri": "https://localhost:8080/",
          "height": 34
        },
        "outputId": "fb0b3376-2882-404e-ade0-02e0036a474f"
      },
      "source": [
        "a = list(range(11,0,-2))\n",
        "a"
      ],
      "execution_count": 12,
      "outputs": [
        {
          "output_type": "execute_result",
          "data": {
            "text/plain": [
              "[11, 9, 7, 5, 3, 1]"
            ]
          },
          "metadata": {
            "tags": []
          },
          "execution_count": 12
        }
      ]
    },
    {
      "cell_type": "code",
      "metadata": {
        "id": "m3couS6p9Re6",
        "colab_type": "code",
        "colab": {
          "base_uri": "https://localhost:8080/",
          "height": 34
        },
        "outputId": "32490bf4-a46f-4a7c-b06c-bd6dd29167dc"
      },
      "source": [
        "type(a)"
      ],
      "execution_count": 15,
      "outputs": [
        {
          "output_type": "execute_result",
          "data": {
            "text/plain": [
              "list"
            ]
          },
          "metadata": {
            "tags": []
          },
          "execution_count": 15
        }
      ]
    },
    {
      "cell_type": "code",
      "metadata": {
        "id": "jlzzmikl9UTw",
        "colab_type": "code",
        "colab": {
          "base_uri": "https://localhost:8080/",
          "height": 34
        },
        "outputId": "489e918b-ff95-4873-f4c6-0950ca13e6b4"
      },
      "source": [
        "for i in range(1,11) :\n",
        "  print(i, end=' ')"
      ],
      "execution_count": 17,
      "outputs": [
        {
          "output_type": "stream",
          "text": [
            "1 2 3 4 5 6 7 8 9 10 "
          ],
          "name": "stdout"
        }
      ]
    },
    {
      "cell_type": "markdown",
      "metadata": {
        "id": "sA3tBgrC9hlp",
        "colab_type": "text"
      },
      "source": [
        "**[문제1]**\n",
        "\n",
        "For문을 이용해서 10부터 0까지 2단위씩"
      ]
    },
    {
      "cell_type": "code",
      "metadata": {
        "id": "6MvpOFc39pqC",
        "colab_type": "code",
        "colab": {
          "base_uri": "https://localhost:8080/",
          "height": 34
        },
        "outputId": "7b97b9f0-0d0d-4fa5-9b4b-9583ea5d5201"
      },
      "source": [
        "for i in range(10,-1,-2) :\n",
        "  print(i, end=' ')  "
      ],
      "execution_count": 18,
      "outputs": [
        {
          "output_type": "stream",
          "text": [
            "10 8 6 4 2 0 "
          ],
          "name": "stdout"
        }
      ]
    },
    {
      "cell_type": "code",
      "metadata": {
        "id": "aoHbuji--QGU",
        "colab_type": "code",
        "colab": {
          "base_uri": "https://localhost:8080/",
          "height": 102
        },
        "outputId": "d562cfa7-d1b5-4b72-926e-ec50af852ed7"
      },
      "source": [
        "a = [1.3, 2.1, 4.5, 5, 5.1]\n",
        "for i in range(len(a)) :\n",
        "  print(a[i])  "
      ],
      "execution_count": 23,
      "outputs": [
        {
          "output_type": "stream",
          "text": [
            "1.3\n",
            "2.1\n",
            "4.5\n",
            "5\n",
            "5.1\n"
          ],
          "name": "stdout"
        }
      ]
    },
    {
      "cell_type": "markdown",
      "metadata": {
        "id": "gggaDdEW_UQC",
        "colab_type": "text"
      },
      "source": [
        "**[문제2]**\n",
        "\n",
        "For문을 Hello Python 1"
      ]
    },
    {
      "cell_type": "code",
      "metadata": {
        "id": "NMKjQCX2_6sv",
        "colab_type": "code",
        "colab": {
          "base_uri": "https://localhost:8080/",
          "height": 187
        },
        "outputId": "f6ffbcdf-caf7-4206-86a7-8ff75bea4d20"
      },
      "source": [
        "for i in range(1,11) :\n",
        "  print('Hello Python', i)  "
      ],
      "execution_count": 27,
      "outputs": [
        {
          "output_type": "stream",
          "text": [
            "Hello Python 1\n",
            "Hello Python 2\n",
            "Hello Python 3\n",
            "Hello Python 4\n",
            "Hello Python 5\n",
            "Hello Python 6\n",
            "Hello Python 7\n",
            "Hello Python 8\n",
            "Hello Python 9\n",
            "Hello Python 10\n"
          ],
          "name": "stdout"
        }
      ]
    },
    {
      "cell_type": "code",
      "metadata": {
        "id": "8Fi7h0yDAHGn",
        "colab_type": "code",
        "colab": {
          "base_uri": "https://localhost:8080/",
          "height": 85
        },
        "outputId": "9c8376a4-b8f3-4ecb-aee4-3e3b95389731"
      },
      "source": [
        "count = input(\"반복 횟수 입력 : \")\n",
        "for i in range(1,int(count)+1) :\n",
        "  print('좋아')"
      ],
      "execution_count": 30,
      "outputs": [
        {
          "output_type": "stream",
          "text": [
            "반복 횟수 입력 : 3\n",
            "좋아\n",
            "좋아\n",
            "좋아\n"
          ],
          "name": "stdout"
        }
      ]
    },
    {
      "cell_type": "code",
      "metadata": {
        "id": "MkOz4rYRBSx_",
        "colab_type": "code",
        "colab": {
          "base_uri": "https://localhost:8080/",
          "height": 68
        },
        "outputId": "6ad18f7f-9a8f-458f-d0b3-accd46821954"
      },
      "source": [
        "a = list(map(int, (input(\"숫자 입력 : \").split())))\n",
        "b = 0\n",
        "for i in range(len(a)) :\n",
        "  print(b)\n",
        "  b += int(a[i])\n",
        "print('합 :', b)\n",
        "print('평균 :', b / len(a))"
      ],
      "execution_count": 51,
      "outputs": [
        {
          "output_type": "stream",
          "text": [
            "숫자 입력 : 1 2 3 4\n",
            "0+1+3+6+합 : 10\n",
            "평균 : 2.5\n"
          ],
          "name": "stdout"
        }
      ]
    }
  ]
}