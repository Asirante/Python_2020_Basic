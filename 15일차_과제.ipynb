{
  "nbformat": 4,
  "nbformat_minor": 0,
  "metadata": {
    "kernelspec": {
      "display_name": "Python 3",
      "language": "python",
      "name": "python3"
    },
    "language_info": {
      "codemirror_mode": {
        "name": "ipython",
        "version": 3
      },
      "file_extension": ".py",
      "mimetype": "text/x-python",
      "name": "python",
      "nbconvert_exporter": "python",
      "pygments_lexer": "ipython3",
      "version": "3.7.4"
    },
    "colab": {
      "name": "15일차 과제.ipynb",
      "provenance": [],
      "collapsed_sections": [],
      "include_colab_link": true
    }
  },
  "cells": [
    {
      "cell_type": "markdown",
      "metadata": {
        "id": "view-in-github",
        "colab_type": "text"
      },
      "source": [
        "<a href=\"https://colab.research.google.com/github/Asirante/Python_2020_Basic/blob/master/15%EC%9D%BC%EC%B0%A8_%EA%B3%BC%EC%A0%9C.ipynb\" target=\"_parent\"><img src=\"https://colab.research.google.com/assets/colab-badge.svg\" alt=\"Open In Colab\"/></a>"
      ]
    },
    {
      "cell_type": "markdown",
      "metadata": {
        "id": "xoSQfj5CIrdZ",
        "colab_type": "text"
      },
      "source": [
        "### [문제2]30120_최건"
      ]
    },
    {
      "cell_type": "code",
      "metadata": {
        "id": "1gCTySKHIrda",
        "colab_type": "code",
        "outputId": "abbb93cc-c0ac-417f-96c1-bc9a94462949",
        "colab": {}
      },
      "source": [
        "a = 10\n",
        "b = 20\n",
        "a\n",
        "b"
      ],
      "execution_count": 0,
      "outputs": [
        {
          "output_type": "execute_result",
          "data": {
            "text/plain": [
              "20"
            ]
          },
          "metadata": {
            "tags": []
          },
          "execution_count": 6
        }
      ]
    },
    {
      "cell_type": "code",
      "metadata": {
        "id": "F5kVM-oSIrdd",
        "colab_type": "code",
        "outputId": "91198c24-b0ec-42f6-e1e6-306c9d7cd49b",
        "colab": {}
      },
      "source": [
        "a, b = 3, 5\n",
        "print('a',a,'b', b, sep = '-')"
      ],
      "execution_count": 0,
      "outputs": [
        {
          "output_type": "stream",
          "text": [
            "a-3-b-5\n"
          ],
          "name": "stdout"
        }
      ]
    },
    {
      "cell_type": "markdown",
      "metadata": {
        "id": "rFwQL-qFIrdg",
        "colab_type": "text"
      },
      "source": [
        "### List"
      ]
    },
    {
      "cell_type": "code",
      "metadata": {
        "id": "_ZXwRyV2Irdg",
        "colab_type": "code",
        "colab": {}
      },
      "source": [
        "num = [1,2,3,4,5]"
      ],
      "execution_count": 0,
      "outputs": []
    },
    {
      "cell_type": "code",
      "metadata": {
        "id": "OmGieZcqIrdi",
        "colab_type": "code",
        "outputId": "10cf46ad-6a26-4158-d99d-b5e1bb8ce227",
        "colab": {}
      },
      "source": [
        "print(type(num),num)\n",
        "stu = ['학생1','학생2','학생3']\n",
        "arr =[[10,13,14], ['a','s','b','d']]"
      ],
      "execution_count": 0,
      "outputs": [
        {
          "output_type": "stream",
          "text": [
            "<class 'list'> [1, 2, 3, 4, 5]\n"
          ],
          "name": "stdout"
        }
      ]
    },
    {
      "cell_type": "code",
      "metadata": {
        "id": "akyiKmGwIrdk",
        "colab_type": "code",
        "outputId": "e89aa6aa-0b1d-4113-a5db-a1c304f1d822",
        "colab": {}
      },
      "source": [
        "print(type(arr),arr,type(stu),stu)"
      ],
      "execution_count": 0,
      "outputs": [
        {
          "output_type": "stream",
          "text": [
            "<class 'list'> [[10, 13, 14], ['a', 's', 'b', 'd']] <class 'list'> ['학생1', '학생2', '학생3']\n"
          ],
          "name": "stdout"
        }
      ]
    },
    {
      "cell_type": "code",
      "metadata": {
        "id": "7miTeSBNIrdm",
        "colab_type": "code",
        "outputId": "bc219c20-66cd-431d-b5fe-fa519ae623f1",
        "colab": {}
      },
      "source": [
        "num[0],stu[1],stu[:-1],arr[1][1]"
      ],
      "execution_count": 0,
      "outputs": [
        {
          "output_type": "execute_result",
          "data": {
            "text/plain": [
              "(1, '학생2', ['학생1', '학생2'], 's')"
            ]
          },
          "metadata": {
            "tags": []
          },
          "execution_count": 28
        }
      ]
    },
    {
      "cell_type": "code",
      "metadata": {
        "id": "_buMpzLiIrdp",
        "colab_type": "code",
        "outputId": "1313e2b3-0ae3-417c-ad8b-cd7186b79491",
        "colab": {}
      },
      "source": [
        "Menu = ['딸기','망고','스타프룻','수박']\n",
        "print(Menu)"
      ],
      "execution_count": 0,
      "outputs": [
        {
          "output_type": "stream",
          "text": [
            "['딸기', '망고', '스타프룻', '수박']\n"
          ],
          "name": "stdout"
        }
      ]
    },
    {
      "cell_type": "code",
      "metadata": {
        "id": "tc-os_ArIrdr",
        "colab_type": "code",
        "outputId": "e2708b0e-f0fc-4ea7-bf39-03533c10b033",
        "colab": {}
      },
      "source": [
        "Menu = ['딸기','망고','스타프룻','수박']\n",
        "for i in Menu :\n",
        "    print('메뉴 : '+ i)"
      ],
      "execution_count": 0,
      "outputs": [
        {
          "output_type": "stream",
          "text": [
            "메뉴 : 딸기\n",
            "메뉴 : 망고\n",
            "메뉴 : 스타프룻\n",
            "메뉴 : 수박\n"
          ],
          "name": "stdout"
        }
      ]
    },
    {
      "cell_type": "code",
      "metadata": {
        "id": "UWYdGwIjIrdt",
        "colab_type": "code",
        "outputId": "11fbd41a-be96-44c8-89ca-bcb91223fb70",
        "colab": {}
      },
      "source": [
        "Menu = ['딸기','망고','스타프룻','수박']\n",
        "for i, con in enumerate(Menu) :\n",
        "    print(i+1,'번', Menu[i])"
      ],
      "execution_count": 0,
      "outputs": [
        {
          "output_type": "stream",
          "text": [
            "1 번 딸기\n",
            "2 번 망고\n",
            "3 번 스타프룻\n",
            "4 번 수박\n"
          ],
          "name": "stdout"
        }
      ]
    },
    {
      "cell_type": "code",
      "metadata": {
        "id": "wP0N7GCMIrdv",
        "colab_type": "code",
        "outputId": "275eb1bc-89a4-4041-faeb-26e34001e97a",
        "colab": {
          "base_uri": "https://localhost:8080/",
          "height": 86
        }
      },
      "source": [
        "import random as r\n",
        "Menu = ['딸기','망고','스타프룻','수박']\n",
        "r.shuffle(Menu)\n",
        "for i, con in enumerate(Menu) :\n",
        "    print(i,'번', Menu[i])"
      ],
      "execution_count": 0,
      "outputs": [
        {
          "output_type": "stream",
          "text": [
            "0 번 망고\n",
            "1 번 스타프룻\n",
            "2 번 딸기\n",
            "3 번 수박\n"
          ],
          "name": "stdout"
        }
      ]
    },
    {
      "cell_type": "code",
      "metadata": {
        "id": "R-qUrnEFIrdx",
        "colab_type": "code",
        "outputId": "51d3408d-cae0-4ddd-a5d9-3918d152b63c",
        "colab": {}
      },
      "source": [
        "r.choice(Menu)"
      ],
      "execution_count": 0,
      "outputs": [
        {
          "output_type": "execute_result",
          "data": {
            "text/plain": [
              "'딸기'"
            ]
          },
          "metadata": {
            "tags": []
          },
          "execution_count": 155
        }
      ]
    },
    {
      "cell_type": "markdown",
      "metadata": {
        "id": "D6IfqRHCIrdz",
        "colab_type": "text"
      },
      "source": [
        "### For"
      ]
    },
    {
      "cell_type": "code",
      "metadata": {
        "scrolled": false,
        "id": "Z_fN1FDIIrdz",
        "colab_type": "code",
        "outputId": "efff3b0b-ae52-4193-ac10-12792df43c00",
        "colab": {}
      },
      "source": [
        "for i in range(1,6,2) :\n",
        "    print(i)"
      ],
      "execution_count": 0,
      "outputs": [
        {
          "output_type": "stream",
          "text": [
            "1\n",
            "3\n",
            "5\n"
          ],
          "name": "stdout"
        }
      ]
    },
    {
      "cell_type": "code",
      "metadata": {
        "id": "mRqkCm9TIrd1",
        "colab_type": "code",
        "outputId": "dcd97ef7-0fe6-44d4-a582-1db4bdd2193d",
        "colab": {}
      },
      "source": [
        "for i in range(1,6) :\n",
        "    for j in range(1,6) :\n",
        "        print(j,end=' ')\n",
        "    print()\n",
        "    "
      ],
      "execution_count": 0,
      "outputs": [
        {
          "output_type": "stream",
          "text": [
            "1 2 3 4 5 \n",
            "1 2 3 4 5 \n",
            "1 2 3 4 5 \n",
            "1 2 3 4 5 \n",
            "1 2 3 4 5 \n"
          ],
          "name": "stdout"
        }
      ]
    },
    {
      "cell_type": "code",
      "metadata": {
        "id": "ds39Izt9Ird3",
        "colab_type": "code",
        "outputId": "01491736-d36e-484d-cfb8-280652e93feb",
        "colab": {}
      },
      "source": [
        "for i in range(1,6,) :\n",
        "    for j in range(5,0,-1) :\n",
        "        print(j,end=' ')\n",
        "    print()\n",
        "    "
      ],
      "execution_count": 0,
      "outputs": [
        {
          "output_type": "stream",
          "text": [
            "5 4 3 2 1 \n",
            "5 4 3 2 1 \n",
            "5 4 3 2 1 \n",
            "5 4 3 2 1 \n",
            "5 4 3 2 1 \n"
          ],
          "name": "stdout"
        }
      ]
    },
    {
      "cell_type": "markdown",
      "metadata": {
        "id": "LMo7-TyJIrd5",
        "colab_type": "text"
      },
      "source": [
        "### 문제은행"
      ]
    },
    {
      "cell_type": "code",
      "metadata": {
        "id": "Qs0Ih8a3Ird6",
        "colab_type": "code",
        "outputId": "83635f4c-0153-466b-a7a8-9eb891486539",
        "colab": {
          "base_uri": "https://localhost:8080/",
          "height": 35
        }
      },
      "source": [
        "name = ['김덕민','이상현','차민준','최연우','최건']\n",
        "print(name)"
      ],
      "execution_count": 0,
      "outputs": [
        {
          "output_type": "stream",
          "text": [
            "['김덕민', '이상현', '차민준', '최연우', '최건']\n"
          ],
          "name": "stdout"
        }
      ]
    },
    {
      "cell_type": "code",
      "metadata": {
        "id": "VgDp9CCxIrd8",
        "colab_type": "code",
        "outputId": "9adf8c5b-c54b-4cfa-e5f9-70a940153a1a",
        "colab": {
          "base_uri": "https://localhost:8080/",
          "height": 69
        }
      },
      "source": [
        "stu = [5,[1,2,3],['민우','민영','민재']]\n",
        "for i, con in enumerate(stu) :\n",
        "    print(i+1,'번은', stu[-1][i])"
      ],
      "execution_count": 0,
      "outputs": [
        {
          "output_type": "stream",
          "text": [
            "1 번은 민우\n",
            "2 번은 민영\n",
            "3 번은 민재\n"
          ],
          "name": "stdout"
        }
      ]
    },
    {
      "cell_type": "code",
      "metadata": {
        "id": "TDzgFyoQIrd-",
        "colab_type": "code",
        "outputId": "1165b289-78ef-4e18-eff7-9c9d2499b5cd",
        "colab": {}
      },
      "source": [
        "lunch = ['빵','잼','우유']\n",
        "print(lunch)"
      ],
      "execution_count": 0,
      "outputs": [
        {
          "output_type": "stream",
          "text": [
            "['빵', '잼', '우유']\n"
          ],
          "name": "stdout"
        }
      ]
    },
    {
      "cell_type": "code",
      "metadata": {
        "id": "E3Wt98ldIreB",
        "colab_type": "code",
        "outputId": "b4175292-2180-43b1-c803-2b3148acb4e2",
        "colab": {
          "base_uri": "https://localhost:8080/",
          "height": 69
        }
      },
      "source": [
        "r.shuffle(name)\n",
        "print(r.randint(1,100))\n",
        "print(name)\n",
        "name.sort()\n",
        "print(name)"
      ],
      "execution_count": 0,
      "outputs": [
        {
          "output_type": "stream",
          "text": [
            "46\n",
            "['김덕민', '이상현', '최연우', '최건', '차민준']\n",
            "['김덕민', '이상현', '차민준', '최건', '최연우']\n"
          ],
          "name": "stdout"
        }
      ]
    },
    {
      "cell_type": "code",
      "metadata": {
        "id": "V4-dt_6mIreD",
        "colab_type": "code",
        "outputId": "a15f37bb-24eb-4729-b7a6-756ffede755b",
        "colab": {
          "base_uri": "https://localhost:8080/",
          "height": 86
        }
      },
      "source": [
        "a = list(map(int, input('숫자입력 5개 >>>>> ').split(',')))\n",
        "print(a)\n",
        "a.sort()\n",
        "print(a)\n",
        "a.sort(reverse=True)\n",
        "print(a)"
      ],
      "execution_count": 0,
      "outputs": [
        {
          "output_type": "stream",
          "text": [
            "숫자입력 5개 >>>>> 8,7,3,5,9\n",
            "[8, 7, 3, 5, 9]\n",
            "[3, 5, 7, 8, 9]\n",
            "[9, 8, 7, 5, 3]\n"
          ],
          "name": "stdout"
        }
      ]
    },
    {
      "cell_type": "code",
      "metadata": {
        "id": "mw6t06EpIreE",
        "colab_type": "code",
        "outputId": "dddea915-1f3a-411c-9eaf-5390a118872b",
        "colab": {}
      },
      "source": [
        "for i in range(1,11):\n",
        "    print(i)"
      ],
      "execution_count": 0,
      "outputs": [
        {
          "output_type": "stream",
          "text": [
            "1\n",
            "2\n",
            "3\n",
            "4\n",
            "5\n",
            "6\n",
            "7\n",
            "8\n",
            "9\n",
            "10\n"
          ],
          "name": "stdout"
        }
      ]
    },
    {
      "cell_type": "code",
      "metadata": {
        "id": "HDaGMjwmIreG",
        "colab_type": "code",
        "outputId": "b3388291-9e36-44a2-9ef6-d639b257d9ad",
        "colab": {}
      },
      "source": [
        "menu = ['피자','치킨','닭발','라면','돈가스']\n",
        "for i, con in enumerate(menu) :\n",
        "    print(i+1,'번', menu[i])"
      ],
      "execution_count": 0,
      "outputs": [
        {
          "output_type": "stream",
          "text": [
            "1 번 피자\n",
            "2 번 치킨\n",
            "3 번 닭발\n",
            "4 번 라면\n",
            "5 번 돈가스\n"
          ],
          "name": "stdout"
        }
      ]
    },
    {
      "cell_type": "code",
      "metadata": {
        "id": "cEzonfcKIreI",
        "colab_type": "code",
        "outputId": "29befb33-21d1-4c08-a1a3-d42ad7083972",
        "colab": {
          "base_uri": "https://localhost:8080/",
          "height": 52
        }
      },
      "source": [
        "b=0\n",
        "for i in range(1,100,2):\n",
        "    print(i, end = ' ')\n",
        "    b = b + i\n",
        "print('\\n합계 :',b)"
      ],
      "execution_count": 0,
      "outputs": [
        {
          "output_type": "stream",
          "text": [
            "1 3 5 7 9 11 13 15 17 19 21 23 25 27 29 31 33 35 37 39 41 43 45 47 49 51 53 55 57 59 61 63 65 67 69 71 73 75 77 79 81 83 85 87 89 91 93 95 97 99 \n",
            "합계 : 2500\n"
          ],
          "name": "stdout"
        }
      ]
    },
    {
      "cell_type": "code",
      "metadata": {
        "id": "qRZ5WrDIIreK",
        "colab_type": "code",
        "outputId": "64492a5a-d5b5-4f19-dbfc-17ab2ea6b057",
        "colab": {}
      },
      "source": [
        "for i in range(1,10):\n",
        "    for j in range(2,10):\n",
        "        print(j,'x',i,'=',i*j,end='\\t')\n",
        "    print()"
      ],
      "execution_count": 0,
      "outputs": [
        {
          "output_type": "stream",
          "text": [
            "2 x 1 = 2\t3 x 1 = 3\t4 x 1 = 4\t5 x 1 = 5\t6 x 1 = 6\t7 x 1 = 7\t8 x 1 = 8\t9 x 1 = 9\t\n",
            "2 x 2 = 4\t3 x 2 = 6\t4 x 2 = 8\t5 x 2 = 10\t6 x 2 = 12\t7 x 2 = 14\t8 x 2 = 16\t9 x 2 = 18\t\n",
            "2 x 3 = 6\t3 x 3 = 9\t4 x 3 = 12\t5 x 3 = 15\t6 x 3 = 18\t7 x 3 = 21\t8 x 3 = 24\t9 x 3 = 27\t\n",
            "2 x 4 = 8\t3 x 4 = 12\t4 x 4 = 16\t5 x 4 = 20\t6 x 4 = 24\t7 x 4 = 28\t8 x 4 = 32\t9 x 4 = 36\t\n",
            "2 x 5 = 10\t3 x 5 = 15\t4 x 5 = 20\t5 x 5 = 25\t6 x 5 = 30\t7 x 5 = 35\t8 x 5 = 40\t9 x 5 = 45\t\n",
            "2 x 6 = 12\t3 x 6 = 18\t4 x 6 = 24\t5 x 6 = 30\t6 x 6 = 36\t7 x 6 = 42\t8 x 6 = 48\t9 x 6 = 54\t\n",
            "2 x 7 = 14\t3 x 7 = 21\t4 x 7 = 28\t5 x 7 = 35\t6 x 7 = 42\t7 x 7 = 49\t8 x 7 = 56\t9 x 7 = 63\t\n",
            "2 x 8 = 16\t3 x 8 = 24\t4 x 8 = 32\t5 x 8 = 40\t6 x 8 = 48\t7 x 8 = 56\t8 x 8 = 64\t9 x 8 = 72\t\n",
            "2 x 9 = 18\t3 x 9 = 27\t4 x 9 = 36\t5 x 9 = 45\t6 x 9 = 54\t7 x 9 = 63\t8 x 9 = 72\t9 x 9 = 81\t\n"
          ],
          "name": "stdout"
        }
      ]
    }
  ]
}