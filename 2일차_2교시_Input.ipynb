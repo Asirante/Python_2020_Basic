{
  "nbformat": 4,
  "nbformat_minor": 0,
  "metadata": {
    "colab": {
      "name": "2일차 2교시 Input.ipynb",
      "provenance": [],
      "collapsed_sections": [],
      "authorship_tag": "ABX9TyNMjY+eo1R5pkbKuLcPTi79",
      "include_colab_link": true
    },
    "kernelspec": {
      "name": "python3",
      "display_name": "Python 3"
    }
  },
  "cells": [
    {
      "cell_type": "markdown",
      "metadata": {
        "id": "view-in-github",
        "colab_type": "text"
      },
      "source": [
        "<a href=\"https://colab.research.google.com/github/Asirante/Python_2020_Basic/blob/master/2%EC%9D%BC%EC%B0%A8_2%EA%B5%90%EC%8B%9C_Input.ipynb\" target=\"_parent\"><img src=\"https://colab.research.google.com/assets/colab-badge.svg\" alt=\"Open In Colab\"/></a>"
      ]
    },
    {
      "cell_type": "code",
      "metadata": {
        "id": "W3x1uzzUD3hn",
        "colab_type": "code",
        "colab": {
          "base_uri": "https://localhost:8080/",
          "height": 51
        },
        "outputId": "bd485729-50e6-4566-c8a5-f65398426f4d"
      },
      "source": [
        "a = input(\"이름 : \")\n",
        "print(a)"
      ],
      "execution_count": 5,
      "outputs": [
        {
          "output_type": "stream",
          "text": [
            "이름 : a = input(\"이름 : \") print(a)\n",
            "a = input(\"이름 : \") print(a)\n"
          ],
          "name": "stdout"
        }
      ]
    },
    {
      "cell_type": "code",
      "metadata": {
        "id": "ZXn4APweEeV6",
        "colab_type": "code",
        "colab": {
          "base_uri": "https://localhost:8080/",
          "height": 51
        },
        "outputId": "4fe87c84-f768-459f-84f8-ef5e7842787f"
      },
      "source": [
        "b = input(\"나이 : \")\n",
        "print(b)"
      ],
      "execution_count": 6,
      "outputs": [
        {
          "output_type": "stream",
          "text": [
            "나이 : 19\n",
            "19\n"
          ],
          "name": "stdout"
        }
      ]
    },
    {
      "cell_type": "code",
      "metadata": {
        "id": "6_gOYQaKEiR3",
        "colab_type": "code",
        "colab": {
          "base_uri": "https://localhost:8080/",
          "height": 34
        },
        "outputId": "4a422286-a97c-44b9-bc85-7517dad26739"
      },
      "source": [
        "type(b)"
      ],
      "execution_count": 8,
      "outputs": [
        {
          "output_type": "execute_result",
          "data": {
            "text/plain": [
              "str"
            ]
          },
          "metadata": {
            "tags": []
          },
          "execution_count": 8
        }
      ]
    },
    {
      "cell_type": "code",
      "metadata": {
        "id": "HbYLDWHAEuQi",
        "colab_type": "code",
        "colab": {
          "base_uri": "https://localhost:8080/",
          "height": 34
        },
        "outputId": "d6e79bef-563c-44bb-b7fd-850ff9e95c69"
      },
      "source": [
        "c = int(b)\n",
        "c, type(c)"
      ],
      "execution_count": 13,
      "outputs": [
        {
          "output_type": "execute_result",
          "data": {
            "text/plain": [
              "(19, int)"
            ]
          },
          "metadata": {
            "tags": []
          },
          "execution_count": 13
        }
      ]
    },
    {
      "cell_type": "code",
      "metadata": {
        "id": "-nSBYaE7E_o1",
        "colab_type": "code",
        "colab": {}
      },
      "source": [
        "d = input(\"식 입력 : \")\n",
        "e = eval(d)\n",
        "print(e)"
      ],
      "execution_count": 0,
      "outputs": []
    },
    {
      "cell_type": "code",
      "metadata": {
        "id": "fEkQNuCnFeA6",
        "colab_type": "code",
        "colab": {
          "base_uri": "https://localhost:8080/",
          "height": 51
        },
        "outputId": "e830353e-55ee-4edd-95c5-51bde73d3e09"
      },
      "source": [
        "year = int(input(\"출생년도 : \"))\n",
        "print(\"한국나이 : \",2020-year+1)"
      ],
      "execution_count": 16,
      "outputs": [
        {
          "output_type": "stream",
          "text": [
            "출생년도 : 2002\n",
            "한국나이 :  19\n"
          ],
          "name": "stdout"
        }
      ]
    },
    {
      "cell_type": "markdown",
      "metadata": {
        "id": "mxoVKKxxGyqG",
        "colab_type": "text"
      },
      "source": [
        "**Format** \n",
        "서식지정자"
      ]
    },
    {
      "cell_type": "code",
      "metadata": {
        "id": "lMv6XGveGtbm",
        "colab_type": "code",
        "colab": {
          "base_uri": "https://localhost:8080/",
          "height": 34
        },
        "outputId": "64e7bc49-47f4-4f67-de4a-3c83e8a9879c"
      },
      "source": [
        "s = 'a is {}'\n",
        "s.format('apple')"
      ],
      "execution_count": 18,
      "outputs": [
        {
          "output_type": "execute_result",
          "data": {
            "text/plain": [
              "'a is apple'"
            ]
          },
          "metadata": {
            "tags": []
          },
          "execution_count": 18
        }
      ]
    },
    {
      "cell_type": "code",
      "metadata": {
        "id": "tZBCzhn-HUx9",
        "colab_type": "code",
        "colab": {
          "base_uri": "https://localhost:8080/",
          "height": 51
        },
        "outputId": "1809b9e9-cea6-4ef7-e4ed-fb84e94add74"
      },
      "source": [
        "a = '%s %d 개 가격은 %.2f 달러'\n",
        "b = a %('치즈버거의 치즈',2,0.5*2)\n",
        "print(a)\n",
        "print(b)"
      ],
      "execution_count": 19,
      "outputs": [
        {
          "output_type": "stream",
          "text": [
            "%s %d 개 가격은 %.2f 달러\n",
            "치즈버거의 치즈 2 개 가격은 1.00 달러\n"
          ],
          "name": "stdout"
        }
      ]
    },
    {
      "cell_type": "code",
      "metadata": {
        "id": "vw4h7PdTIDNl",
        "colab_type": "code",
        "colab": {
          "base_uri": "https://localhost:8080/",
          "height": 51
        },
        "outputId": "5c3b4073-ac36-46ac-d6a3-5d6dd27ec799"
      },
      "source": [
        "#치킨 2마리 가격은 40000원\n",
        "a = '%s %d 마리 가격은 %.2d 원'\n",
        "b = a %('치킨',2,20000*2)\n",
        "print(a)\n",
        "print(b)"
      ],
      "execution_count": 21,
      "outputs": [
        {
          "output_type": "stream",
          "text": [
            "%s %d 마리 가격은 %.2d 원\n",
            "치킨 2 마리 가격은 40000 원\n"
          ],
          "name": "stdout"
        }
      ]
    }
  ]
}