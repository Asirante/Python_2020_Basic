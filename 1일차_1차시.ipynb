{
  "nbformat": 4,
  "nbformat_minor": 0,
  "metadata": {
    "colab": {
      "name": "1일차_1차시.ipynb",
      "provenance": [],
      "collapsed_sections": [],
      "authorship_tag": "ABX9TyMa3WUITpECjywCwilDZ3+I",
      "include_colab_link": true
    },
    "kernelspec": {
      "name": "python3",
      "display_name": "Python 3"
    }
  },
  "cells": [
    {
      "cell_type": "markdown",
      "metadata": {
        "id": "view-in-github",
        "colab_type": "text"
      },
      "source": [
        "<a href=\"https://colab.research.google.com/github/Asirante/Python_2020_Basic/blob/master/1%EC%9D%BC%EC%B0%A8_1%EC%B0%A8%EC%8B%9C.ipynb\" target=\"_parent\"><img src=\"https://colab.research.google.com/assets/colab-badge.svg\" alt=\"Open In Colab\"/></a>"
      ]
    },
    {
      "cell_type": "code",
      "metadata": {
        "id": "N0DgzK6C3T6q",
        "colab_type": "code",
        "colab": {}
      },
      "source": [
        ""
      ],
      "execution_count": 0,
      "outputs": []
    },
    {
      "cell_type": "markdown",
      "metadata": {
        "id": "9Emym1yX3Wfw",
        "colab_type": "text"
      },
      "source": [
        "오늘은 **1일차 1교시 출력문** 작성내용입니다."
      ]
    },
    {
      "cell_type": "markdown",
      "metadata": {
        "id": "d7UOq9Y-3hf2",
        "colab_type": "text"
      },
      "source": [
        "--------\n",
        "오늘의 학습목"
      ]
    },
    {
      "cell_type": "markdown",
      "metadata": {
        "id": "q46Qi3ax3krn",
        "colab_type": "text"
      },
      "source": [
        "   1.개발환경 설치\n",
        "   \n",
        "   2.출력문 작성"
      ]
    },
    {
      "cell_type": "markdown",
      "metadata": {
        "id": "9amBULxT3tcS",
        "colab_type": "text"
      },
      "source": [
        "----------"
      ]
    },
    {
      "cell_type": "code",
      "metadata": {
        "id": "UtyxoIBt3j68",
        "colab_type": "code",
        "colab": {
          "base_uri": "https://localhost:8080/",
          "height": 34
        },
        "outputId": "132b281a-8eab-4c66-df80-28c3a6494f5f"
      },
      "source": [
        "print(\"인천정보산업고\")"
      ],
      "execution_count": 1,
      "outputs": [
        {
          "output_type": "stream",
          "text": [
            "인천정보산업고\n"
          ],
          "name": "stdout"
        }
      ]
    },
    {
      "cell_type": "code",
      "metadata": {
        "id": "6CqfY9sh3302",
        "colab_type": "code",
        "colab": {
          "base_uri": "https://localhost:8080/",
          "height": 34
        },
        "outputId": "56b92485-3651-4a61-9bd3-a7b8eca99816"
      },
      "source": [
        "a, b = 1, 2\n",
        "a, b"
      ],
      "execution_count": 3,
      "outputs": [
        {
          "output_type": "execute_result",
          "data": {
            "text/plain": [
              "(1, 2)"
            ]
          },
          "metadata": {
            "tags": []
          },
          "execution_count": 3
        }
      ]
    },
    {
      "cell_type": "code",
      "metadata": {
        "id": "1FOqVsrW4GdW",
        "colab_type": "code",
        "colab": {
          "base_uri": "https://localhost:8080/",
          "height": 34
        },
        "outputId": "7110ec4f-e983-4133-ccc6-f88c837e49fd"
      },
      "source": [
        "print('재홍 ' * 3)"
      ],
      "execution_count": 4,
      "outputs": [
        {
          "output_type": "stream",
          "text": [
            "재홍 재홍 재홍 \n"
          ],
          "name": "stdout"
        }
      ]
    },
    {
      "cell_type": "markdown",
      "metadata": {
        "id": "x-vjcPcX5eV2",
        "colab_type": "text"
      },
      "source": [
        "**산술연산자**"
      ]
    },
    {
      "cell_type": "code",
      "metadata": {
        "id": "M0NIiM0b4SxA",
        "colab_type": "code",
        "colab": {
          "base_uri": "https://localhost:8080/",
          "height": 357
        },
        "outputId": "b0cf37b7-05c2-4bc4-d54a-5751bf8865f0"
      },
      "source": [
        "a,b=3,2\n",
        "print('더하기')\n",
        "print(a,'+',b,'=',a+b)\n",
        "print('\\n빼기')\n",
        "print(a,'-',b,'=',a-b)\n",
        "print('\\n곱하기')\n",
        "print(a,'*',b,'=',a*b)\n",
        "print('\\n나누기')\n",
        "print(a,'/',b,'=',a/b)\n",
        "print('\\n나머지')\n",
        "print(a,'%',b,'=',a%b)\n",
        "print('\\n제곱')\n",
        "print(a,'**',b,'=',a**b)\n",
        "print('\\n몫')\n",
        "print(a,'//',b,'=',a//b)"
      ],
      "execution_count": 9,
      "outputs": [
        {
          "output_type": "stream",
          "text": [
            "더하기\n",
            "3 + 2 = 5\n",
            "\n",
            "빼기\n",
            "3 - 2 = 1\n",
            "\n",
            "곱하기\n",
            "3 * 2 = 6\n",
            "\n",
            "나누기\n",
            "3 / 2 = 1.5\n",
            "\n",
            "나머지\n",
            "3 % 2 = 1\n",
            "\n",
            "제곱\n",
            "3 ** 2 = 9\n",
            "\n",
            "몫\n",
            "3 // 2 = 1\n"
          ],
          "name": "stdout"
        }
      ]
    },
    {
      "cell_type": "code",
      "metadata": {
        "id": "D0vjqpaY5NjN",
        "colab_type": "code",
        "colab": {
          "base_uri": "https://localhost:8080/",
          "height": 34
        },
        "outputId": "913c105c-dd96-4488-bd8a-9c349de2c847"
      },
      "source": [
        "print('덕민 '*10)"
      ],
      "execution_count": 12,
      "outputs": [
        {
          "output_type": "stream",
          "text": [
            "덕민 덕민 덕민 덕민 덕민 덕민 덕민 덕민 덕민 덕민 \n"
          ],
          "name": "stdout"
        }
      ]
    },
    {
      "cell_type": "code",
      "metadata": {
        "id": "E7_1bXpQ7Lem",
        "colab_type": "code",
        "colab": {}
      },
      "source": [
        ""
      ],
      "execution_count": 0,
      "outputs": []
    }
  ]
}