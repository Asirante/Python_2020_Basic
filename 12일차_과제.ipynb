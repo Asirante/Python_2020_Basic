{
  "nbformat": 4,
  "nbformat_minor": 0,
  "metadata": {
    "colab": {
      "name": "12일차 과제.ipynb",
      "provenance": [],
      "collapsed_sections": [],
      "mount_file_id": "1kOE_AOCWpf6CS7CuNU8UPxOJVCeP6bMY",
      "authorship_tag": "ABX9TyOpm1x63i28KGpBOVkiGIJ4",
      "include_colab_link": true
    },
    "kernelspec": {
      "name": "python3",
      "display_name": "Python 3"
    }
  },
  "cells": [
    {
      "cell_type": "markdown",
      "metadata": {
        "id": "view-in-github",
        "colab_type": "text"
      },
      "source": [
        "<a href=\"https://colab.research.google.com/github/Asirante/Python_2020_Basic/blob/master/12%EC%9D%BC%EC%B0%A8_%EA%B3%BC%EC%A0%9C.ipynb\" target=\"_parent\"><img src=\"https://colab.research.google.com/assets/colab-badge.svg\" alt=\"Open In Colab\"/></a>"
      ]
    },
    {
      "cell_type": "markdown",
      "metadata": {
        "id": "dcWxS2GIMPy0",
        "colab_type": "text"
      },
      "source": [
        "**기상 관측 그래프**"
      ]
    },
    {
      "cell_type": "code",
      "metadata": {
        "id": "vJQki2xYFh6n",
        "colab_type": "code",
        "colab": {
          "base_uri": "https://localhost:8080/",
          "height": 265
        },
        "outputId": "73c1e547-c919-41f0-9e0b-a95dfdb8c23f"
      },
      "source": [
        "import matplotlib.pyplot as plt\n",
        "import csv\n",
        "\n",
        "f = open('/content/drive/My Drive/Colab Notebooks/Data/ta.csv')\n",
        "data = csv.reader(f)\n",
        "next(data)\n",
        "mx_temp = []\n",
        "for row in data :\n",
        "  if row[2] != '' :\n",
        "    mx_temp.append(float(row[-1]))\n",
        "plt.plot(mx_temp)\n",
        "plt.show()"
      ],
      "execution_count": 12,
      "outputs": [
        {
          "output_type": "display_data",
          "data": {
            "image/png": "[encoded data removed]",
            "text/plain": [
              "<Figure size 432x288 with 1 Axes>"
            ]
          },
          "metadata": {
            "tags": [],
            "needs_background": "light"
          }
        }
      ]
    },
    {
      "cell_type": "markdown",
      "metadata": {
        "id": "NvzMuHFsMW2t",
        "colab_type": "text"
      },
      "source": [
        "**히스토그램 실습**"
      ]
    },
    {
      "cell_type": "code",
      "metadata": {
        "id": "CFhueFm4MaC6",
        "colab_type": "code",
        "colab": {
          "base_uri": "https://localhost:8080/",
          "height": 265
        },
        "outputId": "49600a3e-b707-4d2e-9952-fdad5b0fc737"
      },
      "source": [
        "plt.hist([1,1,1,2,2,3,6,7,9,10])\n",
        "\n",
        "plt.show()"
      ],
      "execution_count": 17,
      "outputs": [
        {
          "output_type": "display_data",
          "data": {
            "image/png": "[encoded data removed]",
            "text/plain": [
              "<Figure size 432x288 with 1 Axes>"
            ]
          },
          "metadata": {
            "tags": [],
            "needs_background": "light"
          }
        }
      ]
    },
    {
      "cell_type": "code",
      "metadata": {
        "id": "znwStacJNKl2",
        "colab_type": "code",
        "colab": {
          "base_uri": "https://localhost:8080/",
          "height": 265
        },
        "outputId": "cc6367f4-850d-4593-b6f1-11b096483ac4"
      },
      "source": [
        "plt.boxplot([1,1,1,2,2,3,6,7,9,10])\n",
        "plt.show()"
      ],
      "execution_count": 18,
      "outputs": [
        {
          "output_type": "display_data",
          "data": {
            "image/png": "[encoded data removed]",
            "text/plain": [
              "<Figure size 432x288 with 1 Axes>"
            ]
          },
          "metadata": {
            "tags": [],
            "needs_background": "light"
          }
        }
      ]
    },
    {
      "cell_type": "markdown",
      "metadata": {
        "id": "dRGTr0A3NMld",
        "colab_type": "text"
      },
      "source": [
        "**다양한 그래프**"
      ]
    },
    {
      "cell_type": "code",
      "metadata": {
        "id": "l670KJMPNRxm",
        "colab_type": "code",
        "colab": {
          "base_uri": "https://localhost:8080/",
          "height": 265
        },
        "outputId": "d87c07d2-c42a-4127-e64d-de8fde9b78e0"
      },
      "source": [
        "plt.hist(mx_temp, bins = 7)\n",
        "\n",
        "plt.show()"
      ],
      "execution_count": 25,
      "outputs": [
        {
          "output_type": "display_data",
          "data": {
            "image/png": "[encoded data removed]",
            "text/plain": [
              "<Figure size 432x288 with 1 Axes>"
            ]
          },
          "metadata": {
            "tags": [],
            "needs_background": "light"
          }
        }
      ]
    },
    {
      "cell_type": "code",
      "metadata": {
        "id": "W0sY8BHtN7IE",
        "colab_type": "code",
        "colab": {
          "base_uri": "https://localhost:8080/",
          "height": 265
        },
        "outputId": "1a378e8b-9bd5-4c8b-f8f4-e9cfd2c747d7"
      },
      "source": [
        "plt.boxplot(mx_temp)\n",
        "\n",
        "plt.show()"
      ],
      "execution_count": 26,
      "outputs": [
        {
          "output_type": "display_data",
          "data": {
            "image/png": "[encoded data removed]",
            "text/plain": [
              "<Figure size 432x288 with 1 Axes>"
            ]
          },
          "metadata": {
            "tags": [],
            "needs_background": "light"
          }
        }
      ]
    },
    {
      "cell_type": "markdown",
      "metadata": {
        "id": "74yXKZYbOIEa",
        "colab_type": "text"
      },
      "source": [
        "**split 함수, 그래프 속성 설정**"
      ]
    },
    {
      "cell_type": "code",
      "metadata": {
        "id": "jt89yZq0OMvo",
        "colab_type": "code",
        "colab": {
          "base_uri": "https://localhost:8080/",
          "height": 35
        },
        "outputId": "5ec49b81-7f0e-4f66-d1b2-d3b7ab78e7c5"
      },
      "source": [
        "hello = '안녕 만나서 반가워'\n",
        "print(hello.split())"
      ],
      "execution_count": 27,
      "outputs": [
        {
          "output_type": "stream",
          "text": [
            "['안녕', '만나서', '반가워']\n"
          ],
          "name": "stdout"
        }
      ]
    },
    {
      "cell_type": "code",
      "metadata": {
        "id": "KXe7h4yhPUUr",
        "colab_type": "code",
        "colab": {
          "base_uri": "https://localhost:8080/",
          "height": 35
        },
        "outputId": "e4097b19-43f3-4632-cdf2-99f538b3ab0a"
      },
      "source": [
        "date = '2020-10-20'\n",
        "date = date.split('-')\n",
        "print(date[-1])"
      ],
      "execution_count": 29,
      "outputs": [
        {
          "output_type": "stream",
          "text": [
            "20\n"
          ],
          "name": "stdout"
        }
      ]
    },
    {
      "cell_type": "code",
      "metadata": {
        "id": "RHJ6EleLPdzw",
        "colab_type": "code",
        "colab": {
          "base_uri": "https://localhost:8080/",
          "height": 281
        },
        "outputId": "df5511a4-d38b-4b4d-aa8b-9cad9f05ab6c"
      },
      "source": [
        "plt.title(\"This is a title\")\n",
        "plt.plot([10,5,20,7],'b')\n",
        "\n",
        "plt.show()"
      ],
      "execution_count": 35,
      "outputs": [
        {
          "output_type": "display_data",
          "data": {
            "image/png": "[encoded data removed]",
            "text/plain": [
              "<Figure size 432x288 with 1 Axes>"
            ]
          },
          "metadata": {
            "tags": [],
            "needs_background": "light"
          }
        }
      ]
    }
  ]
}