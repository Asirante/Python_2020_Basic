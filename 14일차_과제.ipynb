{
  "nbformat": 4,
  "nbformat_minor": 0,
  "metadata": {
    "kernelspec": {
      "display_name": "Python 3",
      "language": "python",
      "name": "python3"
    },
    "language_info": {
      "codemirror_mode": {
        "name": "ipython",
        "version": 3
      },
      "file_extension": ".py",
      "mimetype": "text/x-python",
      "name": "python",
      "nbconvert_exporter": "python",
      "pygments_lexer": "ipython3",
      "version": "3.7.3"
    },
    "colab": {
      "name": "14일차 과제.ipynb",
      "provenance": [],
      "include_colab_link": true
    }
  },
  "cells": [
    {
      "cell_type": "markdown",
      "metadata": {
        "id": "view-in-github",
        "colab_type": "text"
      },
      "source": [
        "<a href=\"https://colab.research.google.com/github/Asirante/Python_2020_Basic/blob/master/14%EC%9D%BC%EC%B0%A8_%EA%B3%BC%EC%A0%9C.ipynb\" target=\"_parent\"><img src=\"https://colab.research.google.com/assets/colab-badge.svg\" alt=\"Open In Colab\"/></a>"
      ]
    },
    {
      "cell_type": "markdown",
      "metadata": {
        "id": "Js6Hs2-olxzP",
        "colab_type": "text"
      },
      "source": [
        "1. 다음과 같이 출력하기"
      ]
    },
    {
      "cell_type": "code",
      "metadata": {
        "id": "TYpDp23glxzQ",
        "colab_type": "code",
        "colab": {}
      },
      "source": [
        "print(\"Python 은 재미있고 쉽다.\")"
      ],
      "execution_count": 0,
      "outputs": []
    },
    {
      "cell_type": "markdown",
      "metadata": {
        "id": "em0JsTLQlxzU",
        "colab_type": "text"
      },
      "source": [
        "2. Python 100번 출력하기"
      ]
    },
    {
      "cell_type": "code",
      "metadata": {
        "id": "-CEHnXh8lxzV",
        "colab_type": "code",
        "colab": {}
      },
      "source": [
        "for i in range(100) :\n",
        "    print('Python',end=\" \")"
      ],
      "execution_count": 0,
      "outputs": []
    },
    {
      "cell_type": "markdown",
      "metadata": {
        "id": "LmC9XJ9clxzY",
        "colab_type": "text"
      },
      "source": [
        "3.7 x 8 = 56 출력하기(56은 계산식으로)"
      ]
    },
    {
      "cell_type": "code",
      "metadata": {
        "id": "0HwRXccklxzZ",
        "colab_type": "code",
        "colab": {}
      },
      "source": [
        "print('7 x 8 =',7*8)"
      ],
      "execution_count": 0,
      "outputs": []
    },
    {
      "cell_type": "markdown",
      "metadata": {
        "id": "23gDeV6Flxzc",
        "colab_type": "text"
      },
      "source": [
        "4. +,-,*,/,%,^,**,//"
      ]
    },
    {
      "cell_type": "code",
      "metadata": {
        "id": "Q53DhZCNlxzc",
        "colab_type": "code",
        "colab": {}
      },
      "source": [
        "print('7 + 8 =',7+8)\n",
        "print('7 - 8 =',7-8)\n",
        "print('7 x 8 =',7*8)\n",
        "print('7 / 8 =',7/8)\n",
        "print('7 % 8 =',7%8)\n",
        "print('7 ^ 8 =',7^8)\n",
        "print('7 ** 8 =',7**8)\n",
        "print('7 // 8 =',7//8)"
      ],
      "execution_count": 0,
      "outputs": []
    },
    {
      "cell_type": "markdown",
      "metadata": {
        "id": "KZ0LY-felxzf",
        "colab_type": "text"
      },
      "source": [
        "5. 문자 데이터 입력받아 출력하기"
      ]
    },
    {
      "cell_type": "code",
      "metadata": {
        "id": "mmu7SsEzlxzg",
        "colab_type": "code",
        "colab": {}
      },
      "source": [
        "a = input(\"당신의 이름은 >>> \")\n",
        "print(a,\"님 안녕하세요.\")"
      ],
      "execution_count": 0,
      "outputs": []
    },
    {
      "cell_type": "markdown",
      "metadata": {
        "id": "BuIXNhgzlxzi",
        "colab_type": "text"
      },
      "source": [
        "6. 데이터 입력받아 숫자로 출력하기"
      ]
    },
    {
      "cell_type": "code",
      "metadata": {
        "id": "Y778Du2elxzj",
        "colab_type": "code",
        "colab": {}
      },
      "source": [
        "b = int(input(\"당신의 나이는 >>> \"))\n",
        "print(\"당신은\",2020-b+1,\"년도에 태어났군요~\")"
      ],
      "execution_count": 0,
      "outputs": []
    },
    {
      "cell_type": "markdown",
      "metadata": {
        "id": "2gCE9R5Qlxzn",
        "colab_type": "text"
      },
      "source": [
        "7.두 개의 수를 입력받아 숫자로 출력하기"
      ]
    },
    {
      "cell_type": "code",
      "metadata": {
        "id": "-4KhQ7Zjlxzo",
        "colab_type": "code",
        "colab": {}
      },
      "source": [
        "c, d  = input(\"두 개의 숫자를 입력하세요. >>> \").split()\n",
        "c = int(c)\n",
        "d = int(d)\n",
        "print(c,'+',d,'=',c+d)\n",
        "print(c,'-',d,'=',c-d)\n",
        "print(c,'*',d,'=',c*d)\n",
        "print(c,'/',d,'=',c/d)\n",
        "print(c,'%',d,'=',c%d)\n",
        "print(c,'^',d,'=',c^d)\n",
        "print(c,'**',d,'=',c**d)\n",
        "print(c,'//',d,'=',c//d)"
      ],
      "execution_count": 0,
      "outputs": []
    },
    {
      "cell_type": "markdown",
      "metadata": {
        "id": "D2-gMZ2clxzq",
        "colab_type": "text"
      },
      "source": [
        "8. 문자열 슬라이싱 하기"
      ]
    },
    {
      "cell_type": "code",
      "metadata": {
        "id": "tBpfenBQlxzq",
        "colab_type": "code",
        "colab": {}
      },
      "source": [
        "f = input(\"학교 풀네임 >>>\")\n",
        "if '고등학교' in f :\n",
        "    z = f.find(\"고등학교\")\n",
        "    print(\"학교명 :\",f[:z])\n",
        "    print(\"학교급 :\",f[z:])\n",
        "elif '중학교' in f :\n",
        "    z = f.find(\"중학교\")\n",
        "    print(\"학교명 :\",f[:z])\n",
        "    print(\"학교급 :\",f[z:])\n",
        "elif '초등학교' in f :\n",
        "    z = f.find(\"초등학교\")\n",
        "    print(\"학교명 :\",f[:z])\n",
        "    print(\"학교급 :\",f[z:])\n",
        "else :\n",
        "    print(\"잘못된 학교명입니다.\")"
      ],
      "execution_count": 0,
      "outputs": []
    },
    {
      "cell_type": "markdown",
      "metadata": {
        "id": "tppuVaBPlxzt",
        "colab_type": "text"
      },
      "source": [
        "9. 문자열 슬라이싱 하기"
      ]
    },
    {
      "cell_type": "code",
      "metadata": {
        "id": "DId162-ulxzt",
        "colab_type": "code",
        "colab": {}
      },
      "source": [
        "i = input(\"아버지가방에들어가신다 입력 >>>\")\n",
        "print(i[:3],i[3:6],i[6:])"
      ],
      "execution_count": 0,
      "outputs": []
    },
    {
      "cell_type": "markdown",
      "metadata": {
        "id": "iZqFcW2glxzv",
        "colab_type": "text"
      },
      "source": [
        "10. 자동차 번호가 다음과 같을 때 뒤에 4자리만 출력하시오."
      ]
    },
    {
      "cell_type": "code",
      "metadata": {
        "id": "lImWjWIglxzv",
        "colab_type": "code",
        "colab": {}
      },
      "source": [
        "j = input(\"자동차 번호를 풀네임으로 쓰십시오 >>>\")\n",
        "print(j[-4:])"
      ],
      "execution_count": 0,
      "outputs": []
    },
    {
      "cell_type": "markdown",
      "metadata": {
        "id": "nagdez8Ulxzy",
        "colab_type": "text"
      },
      "source": [
        "11. 아래의 문자열에서 '홀'만 출력하시오."
      ]
    },
    {
      "cell_type": "code",
      "metadata": {
        "id": "ME2osz6flxzz",
        "colab_type": "code",
        "colab": {}
      },
      "source": [
        "k = input(\"홀만 출력할 문자열을 쓰시오 : \")\n",
        "l = k.count('홀')\n",
        "for n in range(l):\n",
        "    print(\"홀\", end = \" \")"
      ],
      "execution_count": 0,
      "outputs": []
    },
    {
      "cell_type": "markdown",
      "metadata": {
        "id": "YgRuCT-4lxz1",
        "colab_type": "text"
      },
      "source": [
        "12. 다음 문제에 대해 각각의 변수에 바인딩하고, 주식의 총액을 구하시오."
      ]
    },
    {
      "cell_type": "code",
      "metadata": {
        "id": "IsoqW8hYlxz1",
        "colab_type": "code",
        "outputId": "4027a733-cb62-4e11-9273-68ecef433835",
        "colab": {
          "base_uri": "https://localhost:8080/",
          "height": 71
        }
      },
      "source": [
        "naver = 238500.0\n",
        "kakao = 265500.0\n",
        "m = int(input(\"당신이 지닌 네이버 주식의 양을 쓰시오. >>>\"))\n",
        "o = int(input(\"당신이 지닌 카카오 주식의 양을 쓰시오. >>>\"))\n",
        "p1 = m*naver \n",
        "p2 = o*kakao\n",
        "p = p1 + p2\n",
        "print(\"당신이 가진 주가 총액은\",p,\"\\ 입니다.\")"
      ],
      "execution_count": 0,
      "outputs": [
        {
          "output_type": "stream",
          "text": [
            "당신이 지닌 네이버 주식의 양을 쓰시오. >>>100\n",
            "당신이 지닌 카카오 주식의 양을 쓰시오. >>>100\n",
            "당신이 가진 주가 총액은 50400000.0 \\ 입니다.\n"
          ],
          "name": "stdout"
        }
      ]
    },
    {
      "cell_type": "markdown",
      "metadata": {
        "id": "XXF6MDhglxz6",
        "colab_type": "text"
      },
      "source": [
        "13. 문제 12-1에서 구한 주식 변경"
      ]
    },
    {
      "cell_type": "code",
      "metadata": {
        "id": "VsNIm8Hblxz6",
        "colab_type": "code",
        "outputId": "ddb1d3d6-7d1e-4a6f-f459-12b3dc91aede",
        "colab": {
          "base_uri": "https://localhost:8080/",
          "height": 89
        }
      },
      "source": [
        "r = float(input(\"네이버 주가가 떨어진 퍼센트를 쓰시오. >>>\"))\n",
        "s = float(input(\"카카오 주가가 떨어진 퍼센트를 쓰시오. >>>\"))\n",
        "t = (100.0 - r)/100.0\n",
        "u = (100.0 - s)/100.0\n",
        "x = p1 * t + p2 * u\n",
        "print(\"당신이 가진 주가 총액은\",x,\"\\ 입니다.\")\n",
        "print(\"당신이 가진 주가 총액 중 떨어진 금액은\",p-x,\"\\ 입니다.\")"
      ],
      "execution_count": 0,
      "outputs": [
        {
          "output_type": "stream",
          "text": [
            "네이버 주가가 떨어진 퍼센트를 쓰시오. >>>1\n",
            "카카오 주가가 떨어진 퍼센트를 쓰시오. >>>0\n",
            "당신이 가진 주가 총액은 50161500.0 \\ 입니다.\n",
            "당신이 가진 주가 총액 중 떨어진 금액은 238500.0 \\ 입니다.\n"
          ],
          "name": "stdout"
        }
      ]
    }
  ]
}